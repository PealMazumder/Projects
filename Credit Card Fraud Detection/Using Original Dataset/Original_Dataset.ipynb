{
 "cells": [
  {
   "cell_type": "markdown",
   "metadata": {
    "id": "r0elJ5uWXdPv"
   },
   "source": [
    "###Dataset Load"
   ]
  },
  {
   "cell_type": "markdown",
   "metadata": {
    "id": "QonV53uSor-r"
   },
   "source": [
    "###Initial things"
   ]
  },
  {
   "cell_type": "code",
   "execution_count": 2,
   "metadata": {
    "id": "NbUlFc3v7T0u",
    "outputId": "314fb4da-ed11-4b67-bfbb-42fe1e9c6271"
   },
   "outputs": [],
   "source": [
    "#importing the dependencies\n",
    "import numpy as np\n",
    "import pandas as pd\n",
    "import seaborn as sns\n",
    "import matplotlib.pyplot as plt\n",
    "from sklearn.model_selection import train_test_split\n",
    "from sklearn.preprocessing import StandardScaler\n",
    "from sklearn.metrics import confusion_matrix, classification_report, accuracy_score\n",
    "from sklearn.linear_model import LogisticRegression\n",
    "from imblearn.under_sampling import RandomUnderSampler\n",
    "from sklearn import preprocessing\n",
    "\n",
    "\n",
    "from sklearn import svm\n",
    "from sklearn import ensemble\n",
    "from xgboost import XGBClassifier\n",
    "from sklearn.ensemble import RandomForestClassifier\n",
    "from sklearn.linear_model import SGDClassifier\n",
    "from sklearn.neural_network import MLPClassifier"
   ]
  },
  {
   "cell_type": "code",
   "execution_count": 3,
   "metadata": {
    "colab": {
     "base_uri": "https://localhost:8080/"
    },
    "id": "03luwKGy7XK7",
    "outputId": "2373706d-2ee3-4ddf-b948-194abe2fa2d5"
   },
   "outputs": [
    {
     "data": {
      "text/html": [
       "<div>\n",
       "<style scoped>\n",
       "    .dataframe tbody tr th:only-of-type {\n",
       "        vertical-align: middle;\n",
       "    }\n",
       "\n",
       "    .dataframe tbody tr th {\n",
       "        vertical-align: top;\n",
       "    }\n",
       "\n",
       "    .dataframe thead th {\n",
       "        text-align: right;\n",
       "    }\n",
       "</style>\n",
       "<table border=\"1\" class=\"dataframe\">\n",
       "  <thead>\n",
       "    <tr style=\"text-align: right;\">\n",
       "      <th></th>\n",
       "      <th>Time</th>\n",
       "      <th>V1</th>\n",
       "      <th>V2</th>\n",
       "      <th>V3</th>\n",
       "      <th>V4</th>\n",
       "      <th>V5</th>\n",
       "      <th>V6</th>\n",
       "      <th>V7</th>\n",
       "      <th>V8</th>\n",
       "      <th>V9</th>\n",
       "      <th>...</th>\n",
       "      <th>V21</th>\n",
       "      <th>V22</th>\n",
       "      <th>V23</th>\n",
       "      <th>V24</th>\n",
       "      <th>V25</th>\n",
       "      <th>V26</th>\n",
       "      <th>V27</th>\n",
       "      <th>V28</th>\n",
       "      <th>Amount</th>\n",
       "      <th>Class</th>\n",
       "    </tr>\n",
       "  </thead>\n",
       "  <tbody>\n",
       "    <tr>\n",
       "      <th>0</th>\n",
       "      <td>0.0</td>\n",
       "      <td>-1.359807</td>\n",
       "      <td>-0.072781</td>\n",
       "      <td>2.536347</td>\n",
       "      <td>1.378155</td>\n",
       "      <td>-0.338321</td>\n",
       "      <td>0.462388</td>\n",
       "      <td>0.239599</td>\n",
       "      <td>0.098698</td>\n",
       "      <td>0.363787</td>\n",
       "      <td>...</td>\n",
       "      <td>-0.018307</td>\n",
       "      <td>0.277838</td>\n",
       "      <td>-0.110474</td>\n",
       "      <td>0.066928</td>\n",
       "      <td>0.128539</td>\n",
       "      <td>-0.189115</td>\n",
       "      <td>0.133558</td>\n",
       "      <td>-0.021053</td>\n",
       "      <td>149.62</td>\n",
       "      <td>0</td>\n",
       "    </tr>\n",
       "    <tr>\n",
       "      <th>1</th>\n",
       "      <td>0.0</td>\n",
       "      <td>1.191857</td>\n",
       "      <td>0.266151</td>\n",
       "      <td>0.166480</td>\n",
       "      <td>0.448154</td>\n",
       "      <td>0.060018</td>\n",
       "      <td>-0.082361</td>\n",
       "      <td>-0.078803</td>\n",
       "      <td>0.085102</td>\n",
       "      <td>-0.255425</td>\n",
       "      <td>...</td>\n",
       "      <td>-0.225775</td>\n",
       "      <td>-0.638672</td>\n",
       "      <td>0.101288</td>\n",
       "      <td>-0.339846</td>\n",
       "      <td>0.167170</td>\n",
       "      <td>0.125895</td>\n",
       "      <td>-0.008983</td>\n",
       "      <td>0.014724</td>\n",
       "      <td>2.69</td>\n",
       "      <td>0</td>\n",
       "    </tr>\n",
       "    <tr>\n",
       "      <th>2</th>\n",
       "      <td>1.0</td>\n",
       "      <td>-1.358354</td>\n",
       "      <td>-1.340163</td>\n",
       "      <td>1.773209</td>\n",
       "      <td>0.379780</td>\n",
       "      <td>-0.503198</td>\n",
       "      <td>1.800499</td>\n",
       "      <td>0.791461</td>\n",
       "      <td>0.247676</td>\n",
       "      <td>-1.514654</td>\n",
       "      <td>...</td>\n",
       "      <td>0.247998</td>\n",
       "      <td>0.771679</td>\n",
       "      <td>0.909412</td>\n",
       "      <td>-0.689281</td>\n",
       "      <td>-0.327642</td>\n",
       "      <td>-0.139097</td>\n",
       "      <td>-0.055353</td>\n",
       "      <td>-0.059752</td>\n",
       "      <td>378.66</td>\n",
       "      <td>0</td>\n",
       "    </tr>\n",
       "    <tr>\n",
       "      <th>3</th>\n",
       "      <td>1.0</td>\n",
       "      <td>-0.966272</td>\n",
       "      <td>-0.185226</td>\n",
       "      <td>1.792993</td>\n",
       "      <td>-0.863291</td>\n",
       "      <td>-0.010309</td>\n",
       "      <td>1.247203</td>\n",
       "      <td>0.237609</td>\n",
       "      <td>0.377436</td>\n",
       "      <td>-1.387024</td>\n",
       "      <td>...</td>\n",
       "      <td>-0.108300</td>\n",
       "      <td>0.005274</td>\n",
       "      <td>-0.190321</td>\n",
       "      <td>-1.175575</td>\n",
       "      <td>0.647376</td>\n",
       "      <td>-0.221929</td>\n",
       "      <td>0.062723</td>\n",
       "      <td>0.061458</td>\n",
       "      <td>123.50</td>\n",
       "      <td>0</td>\n",
       "    </tr>\n",
       "    <tr>\n",
       "      <th>4</th>\n",
       "      <td>2.0</td>\n",
       "      <td>-1.158233</td>\n",
       "      <td>0.877737</td>\n",
       "      <td>1.548718</td>\n",
       "      <td>0.403034</td>\n",
       "      <td>-0.407193</td>\n",
       "      <td>0.095921</td>\n",
       "      <td>0.592941</td>\n",
       "      <td>-0.270533</td>\n",
       "      <td>0.817739</td>\n",
       "      <td>...</td>\n",
       "      <td>-0.009431</td>\n",
       "      <td>0.798278</td>\n",
       "      <td>-0.137458</td>\n",
       "      <td>0.141267</td>\n",
       "      <td>-0.206010</td>\n",
       "      <td>0.502292</td>\n",
       "      <td>0.219422</td>\n",
       "      <td>0.215153</td>\n",
       "      <td>69.99</td>\n",
       "      <td>0</td>\n",
       "    </tr>\n",
       "  </tbody>\n",
       "</table>\n",
       "<p>5 rows × 31 columns</p>\n",
       "</div>"
      ],
      "text/plain": [
       "   Time        V1        V2        V3        V4        V5        V6        V7  \\\n",
       "0   0.0 -1.359807 -0.072781  2.536347  1.378155 -0.338321  0.462388  0.239599   \n",
       "1   0.0  1.191857  0.266151  0.166480  0.448154  0.060018 -0.082361 -0.078803   \n",
       "2   1.0 -1.358354 -1.340163  1.773209  0.379780 -0.503198  1.800499  0.791461   \n",
       "3   1.0 -0.966272 -0.185226  1.792993 -0.863291 -0.010309  1.247203  0.237609   \n",
       "4   2.0 -1.158233  0.877737  1.548718  0.403034 -0.407193  0.095921  0.592941   \n",
       "\n",
       "         V8        V9  ...       V21       V22       V23       V24       V25  \\\n",
       "0  0.098698  0.363787  ... -0.018307  0.277838 -0.110474  0.066928  0.128539   \n",
       "1  0.085102 -0.255425  ... -0.225775 -0.638672  0.101288 -0.339846  0.167170   \n",
       "2  0.247676 -1.514654  ...  0.247998  0.771679  0.909412 -0.689281 -0.327642   \n",
       "3  0.377436 -1.387024  ... -0.108300  0.005274 -0.190321 -1.175575  0.647376   \n",
       "4 -0.270533  0.817739  ... -0.009431  0.798278 -0.137458  0.141267 -0.206010   \n",
       "\n",
       "        V26       V27       V28  Amount  Class  \n",
       "0 -0.189115  0.133558 -0.021053  149.62      0  \n",
       "1  0.125895 -0.008983  0.014724    2.69      0  \n",
       "2 -0.139097 -0.055353 -0.059752  378.66      0  \n",
       "3 -0.221929  0.062723  0.061458  123.50      0  \n",
       "4  0.502292  0.219422  0.215153   69.99      0  \n",
       "\n",
       "[5 rows x 31 columns]"
      ]
     },
     "execution_count": 3,
     "metadata": {},
     "output_type": "execute_result"
    }
   ],
   "source": [
    "dataset = pd.read_csv(\"creditcard.csv\")\n",
    "dataset.head()"
   ]
  },
  {
   "cell_type": "code",
   "execution_count": 4,
   "metadata": {
    "colab": {
     "base_uri": "https://localhost:8080/"
    },
    "id": "8fAX4b1N7aNz",
    "outputId": "ce9527bb-b012-4efc-e5b4-403e63763a03"
   },
   "outputs": [
    {
     "data": {
      "text/plain": [
       "<AxesSubplot:ylabel='Class'>"
      ]
     },
     "execution_count": 4,
     "metadata": {},
     "output_type": "execute_result"
    },
    {
     "data": {
      "image/png": "[encoded data removed]",
      "text/plain": [
       "<Figure size 432x288 with 1 Axes>"
      ]
     },
     "metadata": {},
     "output_type": "display_data"
    }
   ],
   "source": [
    "# showing that this dataset is totally unbalanced\n",
    "count_classes = pd.value_counts(dataset['Class'])\n",
    "count_classes.plot.pie(colors = ['black', 'white'])"
   ]
  },
  {
   "cell_type": "code",
   "execution_count": 5,
   "metadata": {
    "colab": {
     "base_uri": "https://localhost:8080/"
    },
    "id": "t6PCyDVa5xyn",
    "outputId": "eeddb9fe-6477-4be4-dbfd-24c2738c83d7"
   },
   "outputs": [
    {
     "data": {
      "text/plain": [
       "Index(['Time', 'V1', 'V2', 'V3', 'V4', 'V5', 'V6', 'V7', 'V8', 'V9', 'V10',\n",
       "       'V11', 'V12', 'V13', 'V14', 'V15', 'V16', 'V17', 'V18', 'V19', 'V20',\n",
       "       'V21', 'V22', 'V23', 'V24', 'V25', 'V26', 'V27', 'V28', 'Amount',\n",
       "       'Class'],\n",
       "      dtype='object')"
      ]
     },
     "execution_count": 5,
     "metadata": {},
     "output_type": "execute_result"
    }
   ],
   "source": [
    "dataset.columns"
   ]
  },
  {
   "cell_type": "code",
   "execution_count": 6,
   "metadata": {
    "colab": {
     "base_uri": "https://localhost:8080/"
    },
    "id": "iqgg-hzW550s",
    "outputId": "f9dde33f-d86d-4c4d-8e84-5a448e9d23f6"
   },
   "outputs": [
    {
     "data": {
      "text/plain": [
       "0    284315\n",
       "1       492\n",
       "Name: Class, dtype: int64"
      ]
     },
     "execution_count": 6,
     "metadata": {},
     "output_type": "execute_result"
    }
   ],
   "source": [
    "dataset.Class.value_counts()"
   ]
  },
  {
   "cell_type": "code",
   "execution_count": 7,
   "metadata": {
    "colab": {
     "base_uri": "https://localhost:8080/"
    },
    "id": "EFnJoOWU6JG4",
    "outputId": "b7773237-d244-4c08-8bf4-37c5592b4a9c"
   },
   "outputs": [
    {
     "data": {
      "image/png": "[encoded data removed]",
      "text/plain": [
       "<Figure size 720x720 with 36 Axes>"
      ]
     },
     "metadata": {
      "needs_background": "light"
     },
     "output_type": "display_data"
    }
   ],
   "source": [
    "dataset.hist(figsize=(10, 10));"
   ]
  },
  {
   "cell_type": "code",
   "execution_count": 8,
   "metadata": {
    "colab": {
     "base_uri": "https://localhost:8080/"
    },
    "id": "zzak922T6dWu",
    "outputId": "d5c71f1d-8d76-44e7-c495-3419e43ef1fe"
   },
   "outputs": [
    {
     "data": {
      "image/png": "[encoded data removed]",
      "text/plain": [
       "<Figure size 720x720 with 2 Axes>"
      ]
     },
     "metadata": {
      "needs_background": "light"
     },
     "output_type": "display_data"
    }
   ],
   "source": [
    "plt.figure(figsize=(10,10))\n",
    "sns.heatmap(data=dataset.corr(), cmap=\"seismic\")\n",
    "plt.show();"
   ]
  },
  {
   "cell_type": "code",
   "execution_count": 9,
   "metadata": {
    "colab": {
     "base_uri": "https://localhost:8080/"
    },
    "id": "gQtwh9J68mMM",
    "outputId": "e236d53b-e115-4d1e-8d59-fde757bdb7fa"
   },
   "outputs": [
    {
     "name": "stdout",
     "output_type": "stream",
     "text": [
      "Fraud  (492, 31)\n"
     ]
    }
   ],
   "source": [
    "# separating the data for analysis\n",
    "legit = dataset[dataset.Class == 0]\n",
    "fraud = dataset[dataset.Class == 1]\n",
    "print(\"Fraud \", fraud.shape)"
   ]
  },
  {
   "cell_type": "code",
   "execution_count": 10,
   "metadata": {
    "id": "wIACWa-ems_z"
   },
   "outputs": [],
   "source": [
    "scores = []"
   ]
  },
  {
   "cell_type": "code",
   "execution_count": 11,
   "metadata": {
    "id": "_g8enwWnNmNi"
   },
   "outputs": [],
   "source": [
    "names = [\"LR\", \"RF\", \"XGBoost\", \"Ada Boost\", \"SGD\", \"NN(Supervised)\", \"DT\", \"GNB\", \"GB\", \"KNN\", \"VC\", \"SVM\"]"
   ]
  },
  {
   "cell_type": "code",
   "execution_count": 12,
   "metadata": {
    "id": "fQj_Pb2LoJvX"
   },
   "outputs": [],
   "source": [
    "preci = []\n",
    "recall = []\n",
    "f1 = []"
   ]
  },
  {
   "cell_type": "markdown",
   "metadata": {
    "id": "vbfz2riZxvqH"
   },
   "source": [
    "### **Logistic** **Regression**"
   ]
  },
  {
   "cell_type": "code",
   "execution_count": 13,
   "metadata": {
    "colab": {
     "base_uri": "https://localhost:8080/"
    },
    "id": "-G_gFT3n1M6M",
    "outputId": "4dfef2a1-d4fd-4016-a9de-441cbd852de7"
   },
   "outputs": [
    {
     "name": "stdout",
     "output_type": "stream",
     "text": [
      "Fraud  (492, 31)\n"
     ]
    }
   ],
   "source": [
    "# separating the data for analysis\n",
    "legit = dataset[dataset.Class == 0]\n",
    "fraud = dataset[dataset.Class == 1]\n",
    "print(\"Fraud \", fraud.shape)"
   ]
  },
  {
   "cell_type": "code",
   "execution_count": 14,
   "metadata": {
    "id": "PX13kqn69bDS"
   },
   "outputs": [],
   "source": [
    "X = np.asarray(dataset.drop(columns='Class', axis = 1))\n",
    "y = np.asarray(dataset['Class'])\n",
    "\n",
    "X_train, X_test, y_train, y_test = train_test_split(X, y, test_size=0.20, stratify=y, random_state=30)"
   ]
  },
  {
   "cell_type": "code",
   "execution_count": 15,
   "metadata": {
    "id": "3943UiJx-GMB"
   },
   "outputs": [],
   "source": [
    "scalar = StandardScaler()\n",
    "X_train = scalar.fit_transform(X_train)\n",
    "X_test = scalar.transform(X_test)"
   ]
  },
  {
   "cell_type": "code",
   "execution_count": 16,
   "metadata": {
    "id": "kRYSwTsh-RSo"
   },
   "outputs": [],
   "source": [
    "#import time\n",
    "\n",
    "#start_time = time.clock()\n",
    "lr_clf = LogisticRegression(max_iter=300000).fit(X_train, y_train)\n",
    "#print(time.clock() - start_time, \"seconds\")\n"
   ]
  },
  {
   "cell_type": "code",
   "execution_count": 17,
   "metadata": {
    "colab": {
     "base_uri": "https://localhost:8080/"
    },
    "id": "SYg-2K2H-tMR",
    "outputId": "e70c78a6-b4e1-4fa2-aa3d-cdd2cc4ae27a"
   },
   "outputs": [
    {
     "name": "stdout",
     "output_type": "stream",
     "text": [
      "Accuracy on Testing data:  0.9990695551420246\n"
     ]
    }
   ],
   "source": [
    "# accuracy on testing data\n",
    "y_test_pred = lr_clf.predict(X_test)\n",
    "testing_data_accuracy = accuracy_score(y_test, y_test_pred)\n",
    "scores.append(testing_data_accuracy)\n",
    "print('Accuracy on Testing data: ', testing_data_accuracy)"
   ]
  },
  {
   "cell_type": "code",
   "execution_count": 18,
   "metadata": {
    "colab": {
     "base_uri": "https://localhost:8080/"
    },
    "id": "HU1WVRxb--fL",
    "outputId": "057366ab-a57e-4bd7-b1fe-730b31343a75"
   },
   "outputs": [
    {
     "name": "stdout",
     "output_type": "stream",
     "text": [
      "[[56854    10]\n",
      " [   43    55]]\n"
     ]
    }
   ],
   "source": [
    "print(confusion_matrix(y_test, y_test_pred))"
   ]
  },
  {
   "cell_type": "code",
   "execution_count": 19,
   "metadata": {
    "id": "BTtkry7jso1X"
   },
   "outputs": [],
   "source": [
    "#!pip install mlxtend\n",
    "from mlxtend.plotting import plot_confusion_matrix\n",
    "import matplotlib.pyplot as plt\n"
   ]
  },
  {
   "cell_type": "code",
   "execution_count": 20,
   "metadata": {
    "colab": {
     "base_uri": "https://localhost:8080/"
    },
    "id": "YG8-hykhspsq",
    "outputId": "d074ee6a-6578-40ba-a30f-a1bf3523a9ff"
   },
   "outputs": [
    {
     "data": {
      "image/png": "[encoded data removed]",
      "text/plain": [
       "<Figure size 432x288 with 2 Axes>"
      ]
     },
     "metadata": {
      "needs_background": "light"
     },
     "output_type": "display_data"
    }
   ],
   "source": [
    "lr_cmat = confusion_matrix(y_test, y_test_pred)\n",
    "plot_confusion_matrix(conf_mat=lr_cmat, cmap='Dark2_r', colorbar=True)\n",
    "plt.show()"
   ]
  },
  {
   "cell_type": "code",
   "execution_count": 21,
   "metadata": {
    "colab": {
     "base_uri": "https://localhost:8080/"
    },
    "id": "HZzCI51B_UHS",
    "outputId": "3ed86397-cdf4-47e0-8c5f-9a7f38cd2c55"
   },
   "outputs": [
    {
     "name": "stdout",
     "output_type": "stream",
     "text": [
      "              precision    recall  f1-score   support\n",
      "\n",
      "           0       1.00      1.00      1.00     56864\n",
      "           1       0.85      0.56      0.67        98\n",
      "\n",
      "    accuracy                           1.00     56962\n",
      "   macro avg       0.92      0.78      0.84     56962\n",
      "weighted avg       1.00      1.00      1.00     56962\n",
      "\n"
     ]
    }
   ],
   "source": [
    "print(classification_report(y_test, y_test_pred))"
   ]
  },
  {
   "cell_type": "code",
   "execution_count": 22,
   "metadata": {
    "id": "zGe4C2Jhsz0N"
   },
   "outputs": [],
   "source": [
    "from sklearn.metrics import precision_score\n",
    "from sklearn.metrics import recall_score\n",
    "from sklearn.metrics import f1_score\n",
    "preci.append(precision_score(y_test, y_test_pred, average='macro'))\n",
    "recall.append(recall_score(y_test, y_test_pred, average='macro'))\n",
    "f1.append(f1_score(y_test, y_test_pred, average='macro'))"
   ]
  },
  {
   "cell_type": "markdown",
   "metadata": {
    "id": "_BGBnHtuvcuc"
   },
   "source": [
    "###Random Forest"
   ]
  },
  {
   "cell_type": "code",
   "execution_count": 23,
   "metadata": {
    "id": "GZjcjAMcyKqg"
   },
   "outputs": [],
   "source": [
    "rf_clf = RandomForestClassifier(n_estimators=300)\n",
    "rf_clf.fit(X_train, y_train)\n",
    "\n",
    "y_test_pred = np.array(rf_clf.predict(X_test))"
   ]
  },
  {
   "cell_type": "code",
   "execution_count": 24,
   "metadata": {
    "colab": {
     "base_uri": "https://localhost:8080/"
    },
    "id": "fjirX-vey5C3",
    "outputId": "fd67da27-0225-4ad3-ba49-a996fb1610d2"
   },
   "outputs": [
    {
     "name": "stdout",
     "output_type": "stream",
     "text": [
      "Accuracy on Testing data:  0.9994557775359011\n"
     ]
    }
   ],
   "source": [
    "testing_data_accuracy = accuracy_score(y_test, y_test_pred)\n",
    "scores.append(testing_data_accuracy)\n",
    "print('Accuracy on Testing data: ', testing_data_accuracy)"
   ]
  },
  {
   "cell_type": "code",
   "execution_count": 25,
   "metadata": {
    "colab": {
     "base_uri": "https://localhost:8080/"
    },
    "id": "If7f5HJsy7l7",
    "outputId": "3e15696e-c2c5-4f39-d198-eb408780b72b"
   },
   "outputs": [
    {
     "name": "stdout",
     "output_type": "stream",
     "text": [
      "[[56860     4]\n",
      " [   27    71]]\n"
     ]
    }
   ],
   "source": [
    "print(confusion_matrix(y_test, y_test_pred))"
   ]
  },
  {
   "cell_type": "code",
   "execution_count": 26,
   "metadata": {
    "colab": {
     "base_uri": "https://localhost:8080/"
    },
    "id": "HgLZLkLEs7FF",
    "outputId": "cb0cacb5-0fa1-4a10-9837-32ae631274ca"
   },
   "outputs": [
    {
     "data": {
      "image/png": "[encoded data removed]",
      "text/plain": [
       "<Figure size 432x288 with 2 Axes>"
      ]
     },
     "metadata": {
      "needs_background": "light"
     },
     "output_type": "display_data"
    }
   ],
   "source": [
    "rf_cmat = confusion_matrix(y_test, y_test_pred)\n",
    "plot_confusion_matrix(conf_mat=rf_cmat, cmap='Dark2_r', colorbar=True)\n",
    "plt.show()"
   ]
  },
  {
   "cell_type": "code",
   "execution_count": 27,
   "metadata": {
    "colab": {
     "base_uri": "https://localhost:8080/"
    },
    "id": "2Q5mFfsGy-hg",
    "outputId": "ec496456-e0a7-4c49-9f59-55bce7f5b15e"
   },
   "outputs": [
    {
     "name": "stdout",
     "output_type": "stream",
     "text": [
      "              precision    recall  f1-score   support\n",
      "\n",
      "           0       1.00      1.00      1.00     56864\n",
      "           1       0.95      0.72      0.82        98\n",
      "\n",
      "    accuracy                           1.00     56962\n",
      "   macro avg       0.97      0.86      0.91     56962\n",
      "weighted avg       1.00      1.00      1.00     56962\n",
      "\n"
     ]
    }
   ],
   "source": [
    "print(classification_report(y_test, y_test_pred))"
   ]
  },
  {
   "cell_type": "code",
   "execution_count": 28,
   "metadata": {
    "id": "VCoYRq5ss8Zk"
   },
   "outputs": [],
   "source": [
    "preci.append(precision_score(y_test, y_test_pred, average='macro'))\n",
    "recall.append(recall_score(y_test, y_test_pred, average='macro'))\n",
    "f1.append(f1_score(y_test, y_test_pred, average='macro'))"
   ]
  },
  {
   "cell_type": "markdown",
   "metadata": {
    "id": "1d4tFWVJ5mHI"
   },
   "source": [
    "###Extreme Gradient Boosting (XGBoost)"
   ]
  },
  {
   "cell_type": "code",
   "execution_count": 29,
   "metadata": {
    "id": "CNHJCgAK5aXI"
   },
   "outputs": [],
   "source": [
    "xgb_clf = XGBClassifier(n_estimators=300, use_label_encoder=False)\n",
    "xgb_clf.fit(X_train, y_train, eval_metric='aucpr')\n",
    "\n",
    "y_test_pred = xgb_clf.predict(X_test)"
   ]
  },
  {
   "cell_type": "code",
   "execution_count": 30,
   "metadata": {
    "colab": {
     "base_uri": "https://localhost:8080/"
    },
    "id": "YSy3Tuw85kx3",
    "outputId": "ddaf4170-c66d-4aec-b36c-96028562a7fc"
   },
   "outputs": [
    {
     "name": "stdout",
     "output_type": "stream",
     "text": [
      "Accuracy on Testing data:  0.9995084442259752\n"
     ]
    }
   ],
   "source": [
    "testing_data_accuracy = accuracy_score(y_test, y_test_pred)\n",
    "scores.append(testing_data_accuracy)\n",
    "print('Accuracy on Testing data: ', testing_data_accuracy)"
   ]
  },
  {
   "cell_type": "code",
   "execution_count": 31,
   "metadata": {
    "colab": {
     "base_uri": "https://localhost:8080/"
    },
    "id": "pejTcOQrDF_2",
    "outputId": "4ec388f8-185e-423f-f4c4-d328e340d7b8"
   },
   "outputs": [
    {
     "name": "stdout",
     "output_type": "stream",
     "text": [
      "[[56860     4]\n",
      " [   24    74]]\n"
     ]
    }
   ],
   "source": [
    "print(confusion_matrix(y_test, y_test_pred))"
   ]
  },
  {
   "cell_type": "code",
   "execution_count": 32,
   "metadata": {
    "colab": {
     "base_uri": "https://localhost:8080/"
    },
    "id": "ZpIhe70EtDdT",
    "outputId": "fab280cf-8202-4ae9-a06d-1d973a818e47"
   },
   "outputs": [
    {
     "data": {
      "image/png": "[encoded data removed]",
      "text/plain": [
       "<Figure size 432x288 with 2 Axes>"
      ]
     },
     "metadata": {
      "needs_background": "light"
     },
     "output_type": "display_data"
    }
   ],
   "source": [
    "xgb_cmat = confusion_matrix(y_test, y_test_pred)\n",
    "plot_confusion_matrix(conf_mat=xgb_cmat, cmap='Dark2_r', colorbar=True)\n",
    "plt.show()"
   ]
  },
  {
   "cell_type": "code",
   "execution_count": 33,
   "metadata": {
    "colab": {
     "base_uri": "https://localhost:8080/"
    },
    "id": "W28HCN-eDK7i",
    "outputId": "51694134-43de-43de-a525-34a7ca5059c3"
   },
   "outputs": [
    {
     "name": "stdout",
     "output_type": "stream",
     "text": [
      "              precision    recall  f1-score   support\n",
      "\n",
      "           0       1.00      1.00      1.00     56864\n",
      "           1       0.95      0.76      0.84        98\n",
      "\n",
      "    accuracy                           1.00     56962\n",
      "   macro avg       0.97      0.88      0.92     56962\n",
      "weighted avg       1.00      1.00      1.00     56962\n",
      "\n"
     ]
    }
   ],
   "source": [
    "print(classification_report(y_test, y_test_pred))"
   ]
  },
  {
   "cell_type": "code",
   "execution_count": 34,
   "metadata": {
    "id": "7r0rh3nXtHwy"
   },
   "outputs": [],
   "source": [
    "preci.append(precision_score(y_test, y_test_pred, average='macro'))\n",
    "recall.append(recall_score(y_test, y_test_pred, average='macro'))\n",
    "f1.append(f1_score(y_test, y_test_pred, average='macro'))"
   ]
  },
  {
   "cell_type": "markdown",
   "metadata": {
    "id": "uUe8LS37Moda"
   },
   "source": [
    "###Ada Boost"
   ]
  },
  {
   "cell_type": "code",
   "execution_count": 35,
   "metadata": {
    "id": "g9ld9iRpMzye"
   },
   "outputs": [],
   "source": [
    "from sklearn import ensemble\n",
    "# Creating classifier Object\n",
    "adaboost_clf = ensemble.AdaBoostClassifier(n_estimators=300).fit(X_train, y_train)"
   ]
  },
  {
   "cell_type": "code",
   "execution_count": 36,
   "metadata": {
    "colab": {
     "base_uri": "https://localhost:8080/"
    },
    "id": "9uRBK5EqM-ei",
    "outputId": "ee2d3e22-cd77-49e5-ea63-a453e9e4bc60"
   },
   "outputs": [
    {
     "name": "stdout",
     "output_type": "stream",
     "text": [
      "Accuracy on Testing data:  0.9993679997191109\n"
     ]
    }
   ],
   "source": [
    "y_test_pred = adaboost_clf.predict(X_test)\n",
    "\n",
    "testing_data_accuracy = accuracy_score(y_test, y_test_pred)\n",
    "scores.append(testing_data_accuracy)\n",
    "print('Accuracy on Testing data: ', testing_data_accuracy)"
   ]
  },
  {
   "cell_type": "code",
   "execution_count": 37,
   "metadata": {
    "colab": {
     "base_uri": "https://localhost:8080/"
    },
    "id": "KijFfA7-RNYL",
    "outputId": "bdfd0de8-200f-49ae-c943-c93f516d0769"
   },
   "outputs": [
    {
     "name": "stdout",
     "output_type": "stream",
     "text": [
      "[[56851    13]\n",
      " [   23    75]]\n"
     ]
    }
   ],
   "source": [
    "print(confusion_matrix(y_test, y_test_pred))"
   ]
  },
  {
   "cell_type": "code",
   "execution_count": 38,
   "metadata": {
    "colab": {
     "base_uri": "https://localhost:8080/"
    },
    "id": "Bta_1yF1tYaz",
    "outputId": "721d11a6-4d75-48b1-8b9f-f32d12067dda"
   },
   "outputs": [
    {
     "data": {
      "image/png": "[encoded data removed]",
      "text/plain": [
       "<Figure size 432x288 with 2 Axes>"
      ]
     },
     "metadata": {
      "needs_background": "light"
     },
     "output_type": "display_data"
    }
   ],
   "source": [
    "ab_cmat = confusion_matrix(y_test, y_test_pred)\n",
    "plot_confusion_matrix(conf_mat=ab_cmat, cmap='Dark2_r', colorbar=True)\n",
    "plt.show()"
   ]
  },
  {
   "cell_type": "code",
   "execution_count": 39,
   "metadata": {
    "colab": {
     "base_uri": "https://localhost:8080/"
    },
    "id": "nAPdENWnRroT",
    "outputId": "1b947452-8d24-46f5-f359-8bae9d32f69d"
   },
   "outputs": [
    {
     "name": "stdout",
     "output_type": "stream",
     "text": [
      "              precision    recall  f1-score   support\n",
      "\n",
      "           0       1.00      1.00      1.00     56864\n",
      "           1       0.85      0.77      0.81        98\n",
      "\n",
      "    accuracy                           1.00     56962\n",
      "   macro avg       0.93      0.88      0.90     56962\n",
      "weighted avg       1.00      1.00      1.00     56962\n",
      "\n"
     ]
    }
   ],
   "source": [
    "print(classification_report(y_test, y_test_pred))"
   ]
  },
  {
   "cell_type": "code",
   "execution_count": 40,
   "metadata": {
    "id": "a6YiXQYltaj5"
   },
   "outputs": [],
   "source": [
    "preci.append(precision_score(y_test, y_test_pred, average='macro'))\n",
    "recall.append(recall_score(y_test, y_test_pred, average='macro'))\n",
    "f1.append(f1_score(y_test, y_test_pred, average='macro'))"
   ]
  },
  {
   "cell_type": "markdown",
   "metadata": {
    "id": "emmumE-0R8Bz"
   },
   "source": [
    "###Stochastic gradient descent"
   ]
  },
  {
   "cell_type": "code",
   "execution_count": 41,
   "metadata": {
    "id": "ylougX9WSACZ"
   },
   "outputs": [],
   "source": [
    "from sklearn.linear_model import SGDClassifier"
   ]
  },
  {
   "cell_type": "code",
   "execution_count": 42,
   "metadata": {
    "id": "wPl8lGKeSDvw"
   },
   "outputs": [],
   "source": [
    "sgd_clf = SGDClassifier(loss=\"log\", penalty=\"l2\", max_iter=3000000).fit(X_train, y_train)"
   ]
  },
  {
   "cell_type": "code",
   "execution_count": 43,
   "metadata": {
    "id": "Kw3qyjmnSKHg"
   },
   "outputs": [],
   "source": [
    "y_test_pred = sgd_clf.predict(X_test)"
   ]
  },
  {
   "cell_type": "code",
   "execution_count": 44,
   "metadata": {
    "colab": {
     "base_uri": "https://localhost:8080/"
    },
    "id": "4G1df5sGSSx5",
    "outputId": "b1cddadb-7c4c-4456-c34e-909e22e43a47"
   },
   "outputs": [
    {
     "name": "stdout",
     "output_type": "stream",
     "text": [
      "Accuracy on Testing data:  0.9989642217618764\n"
     ]
    }
   ],
   "source": [
    "testing_data_accuracy = accuracy_score(y_test, y_test_pred)\n",
    "scores.append(testing_data_accuracy)\n",
    "print('Accuracy on Testing data: ', testing_data_accuracy)"
   ]
  },
  {
   "cell_type": "code",
   "execution_count": 45,
   "metadata": {
    "colab": {
     "base_uri": "https://localhost:8080/"
    },
    "id": "eRTIuH4pSZso",
    "outputId": "0759aaa4-58dd-4b9b-b225-f65fe20fa62e"
   },
   "outputs": [
    {
     "name": "stdout",
     "output_type": "stream",
     "text": [
      "[[56854    10]\n",
      " [   49    49]]\n"
     ]
    }
   ],
   "source": [
    "print(confusion_matrix(y_test, y_test_pred))"
   ]
  },
  {
   "cell_type": "code",
   "execution_count": 46,
   "metadata": {
    "colab": {
     "base_uri": "https://localhost:8080/"
    },
    "id": "3DsLdq77thyv",
    "outputId": "90055413-6a66-48ea-b126-8c3499829eeb"
   },
   "outputs": [
    {
     "data": {
      "image/png": "[encoded data removed]",
      "text/plain": [
       "<Figure size 432x288 with 2 Axes>"
      ]
     },
     "metadata": {
      "needs_background": "light"
     },
     "output_type": "display_data"
    }
   ],
   "source": [
    "sgd_cmat = confusion_matrix(y_test, y_test_pred)\n",
    "plot_confusion_matrix(conf_mat=sgd_cmat, cmap='Dark2_r', colorbar=True)\n",
    "plt.show()"
   ]
  },
  {
   "cell_type": "code",
   "execution_count": 47,
   "metadata": {
    "colab": {
     "base_uri": "https://localhost:8080/"
    },
    "id": "xmycGkXuSc64",
    "outputId": "10b13c1c-b95d-4bd1-b626-88c9b0b3ac70"
   },
   "outputs": [
    {
     "name": "stdout",
     "output_type": "stream",
     "text": [
      "              precision    recall  f1-score   support\n",
      "\n",
      "           0       1.00      1.00      1.00     56864\n",
      "           1       0.83      0.50      0.62        98\n",
      "\n",
      "    accuracy                           1.00     56962\n",
      "   macro avg       0.91      0.75      0.81     56962\n",
      "weighted avg       1.00      1.00      1.00     56962\n",
      "\n"
     ]
    }
   ],
   "source": [
    "print(classification_report(y_test, y_test_pred))"
   ]
  },
  {
   "cell_type": "code",
   "execution_count": 48,
   "metadata": {
    "id": "e-e8abBrtjFT"
   },
   "outputs": [],
   "source": [
    "preci.append(precision_score(y_test, y_test_pred, average='macro'))\n",
    "recall.append(recall_score(y_test, y_test_pred, average='macro'))\n",
    "f1.append(f1_score(y_test, y_test_pred, average='macro'))"
   ]
  },
  {
   "cell_type": "markdown",
   "metadata": {
    "id": "DK5U8Y7bSnSD"
   },
   "source": [
    "###Neural network models (supervised)"
   ]
  },
  {
   "cell_type": "code",
   "execution_count": 49,
   "metadata": {
    "id": "Xr-5AyrBSqCc"
   },
   "outputs": [],
   "source": [
    "from sklearn.neural_network import MLPClassifier"
   ]
  },
  {
   "cell_type": "code",
   "execution_count": 50,
   "metadata": {
    "id": "-yb7s7-NL01A"
   },
   "outputs": [],
   "source": [
    "X_train, X_test, y_train, y_test = train_test_split(X, y, test_size=0.20, stratify=y, random_state=30)"
   ]
  },
  {
   "cell_type": "code",
   "execution_count": 51,
   "metadata": {
    "id": "qy2jKnSFL0TG"
   },
   "outputs": [],
   "source": [
    "# data normalization with sklearn\n",
    "from sklearn.preprocessing import MinMaxScaler\n",
    "\n",
    "# fit scaler on training data\n",
    "norm = MinMaxScaler().fit(X_train)\n",
    "\n",
    "# transform training data\n",
    "X_train_norm = norm.transform(X_train)\n",
    "\n",
    "# transform testing dataabs\n",
    "X_test_norm= norm.transform(X_test)"
   ]
  },
  {
   "cell_type": "code",
   "execution_count": 52,
   "metadata": {
    "id": "1Zb1R6aPSu4j"
   },
   "outputs": [],
   "source": [
    "nn_clf = MLPClassifier(solver='lbfgs', alpha=1e-5, hidden_layer_sizes = (50,5), random_state = 1, max_iter=300000)\n",
    "nn_clf = nn_clf.fit(X_train_norm, y_train)"
   ]
  },
  {
   "cell_type": "code",
   "execution_count": 53,
   "metadata": {
    "id": "KJpXHrHuS6UW"
   },
   "outputs": [],
   "source": [
    "y_test_pred = nn_clf.predict(X_test_norm)"
   ]
  },
  {
   "cell_type": "code",
   "execution_count": 54,
   "metadata": {
    "colab": {
     "base_uri": "https://localhost:8080/"
    },
    "id": "Ed3nf0cmTIqc",
    "outputId": "2b8cc920-e1e9-4fcf-b29b-c122a228255c"
   },
   "outputs": [
    {
     "name": "stdout",
     "output_type": "stream",
     "text": [
      "Accuracy on Testing data:  0.9992802219023208\n"
     ]
    }
   ],
   "source": [
    "testing_data_accuracy = accuracy_score(y_test, y_test_pred)\n",
    "scores.append(testing_data_accuracy)\n",
    "print('Accuracy on Testing data: ', testing_data_accuracy)"
   ]
  },
  {
   "cell_type": "code",
   "execution_count": 55,
   "metadata": {
    "colab": {
     "base_uri": "https://localhost:8080/"
    },
    "id": "wKZ-_-IRTQjF",
    "outputId": "355f507e-fa73-4be0-d253-1fa493f4b094"
   },
   "outputs": [
    {
     "name": "stdout",
     "output_type": "stream",
     "text": [
      "[[56849    15]\n",
      " [   26    72]]\n"
     ]
    }
   ],
   "source": [
    "print(confusion_matrix(y_test, y_test_pred))"
   ]
  },
  {
   "cell_type": "code",
   "execution_count": 56,
   "metadata": {
    "colab": {
     "base_uri": "https://localhost:8080/"
    },
    "id": "wGBKDc_6t7U7",
    "outputId": "a8a7d01e-937a-46c6-efe0-8f2d873e81a2"
   },
   "outputs": [
    {
     "data": {
      "image/png": "[encoded data removed]",
      "text/plain": [
       "<Figure size 432x288 with 2 Axes>"
      ]
     },
     "metadata": {
      "needs_background": "light"
     },
     "output_type": "display_data"
    }
   ],
   "source": [
    "nn_cmat = confusion_matrix(y_test, y_test_pred)\n",
    "plot_confusion_matrix(conf_mat=nn_cmat, cmap='Dark2_r', colorbar=True)\n",
    "plt.show()"
   ]
  },
  {
   "cell_type": "code",
   "execution_count": 57,
   "metadata": {
    "colab": {
     "base_uri": "https://localhost:8080/"
    },
    "id": "r_JpMR3xTTEN",
    "outputId": "c1cacbe9-2526-42e7-f362-c5780d0be8fe"
   },
   "outputs": [
    {
     "name": "stdout",
     "output_type": "stream",
     "text": [
      "              precision    recall  f1-score   support\n",
      "\n",
      "           0       1.00      1.00      1.00     56864\n",
      "           1       0.83      0.73      0.78        98\n",
      "\n",
      "    accuracy                           1.00     56962\n",
      "   macro avg       0.91      0.87      0.89     56962\n",
      "weighted avg       1.00      1.00      1.00     56962\n",
      "\n"
     ]
    }
   ],
   "source": [
    "print(classification_report(y_test, y_test_pred))"
   ]
  },
  {
   "cell_type": "code",
   "execution_count": 58,
   "metadata": {
    "id": "IowEtOLXt81X"
   },
   "outputs": [],
   "source": [
    "preci.append(precision_score(y_test, y_test_pred, average='macro'))\n",
    "recall.append(recall_score(y_test, y_test_pred, average='macro'))\n",
    "f1.append(f1_score(y_test, y_test_pred, average='macro'))"
   ]
  },
  {
   "cell_type": "markdown",
   "metadata": {
    "id": "wE7N0ioETmTP"
   },
   "source": [
    "###Decision Trees"
   ]
  },
  {
   "cell_type": "code",
   "execution_count": 59,
   "metadata": {
    "id": "my5Bz-sSToKe"
   },
   "outputs": [],
   "source": [
    "from sklearn.tree import DecisionTreeClassifier"
   ]
  },
  {
   "cell_type": "code",
   "execution_count": 60,
   "metadata": {
    "id": "F4olJ751Tz-b"
   },
   "outputs": [],
   "source": [
    "dt_clf = DecisionTreeClassifier(max_depth = 3, min_samples_split= 3, min_samples_leaf = 1, random_state=30)\n",
    "dt_clf = dt_clf.fit(X_train, y_train)"
   ]
  },
  {
   "cell_type": "code",
   "execution_count": 62,
   "metadata": {},
   "outputs": [],
   "source": [
    "from collections import Counter"
   ]
  },
  {
   "cell_type": "code",
   "execution_count": 63,
   "metadata": {
    "colab": {
     "base_uri": "https://localhost:8080/"
    },
    "id": "TmkiNAkqHAGO",
    "outputId": "94c50b03-fe7a-41bf-9dc5-d71114daae9c"
   },
   "outputs": [
    {
     "name": "stdout",
     "output_type": "stream",
     "text": [
      "over sampled dataset shape Counter({0: 227451, 1: 394})\n"
     ]
    }
   ],
   "source": [
    "print('over sampled dataset shape %s' % Counter(y_train))"
   ]
  },
  {
   "cell_type": "code",
   "execution_count": 64,
   "metadata": {
    "colab": {
     "base_uri": "https://localhost:8080/"
    },
    "id": "TyrF53tVT6za",
    "outputId": "586a315d-4be5-4baa-dc4b-2cf6f3fa5795"
   },
   "outputs": [
    {
     "name": "stdout",
     "output_type": "stream",
     "text": [
      "Accuracy on Testing data:  0.9992099996488887\n"
     ]
    }
   ],
   "source": [
    "y_test_pred = dt_clf.predict(X_test)\n",
    "\n",
    "testing_data_accuracy = accuracy_score(y_test, y_test_pred)\n",
    "scores.append(testing_data_accuracy)\n",
    "print('Accuracy on Testing data: ', testing_data_accuracy)"
   ]
  },
  {
   "cell_type": "code",
   "execution_count": 65,
   "metadata": {
    "colab": {
     "base_uri": "https://localhost:8080/"
    },
    "id": "YBwQEPOOUBJW",
    "outputId": "0b9251f9-9a00-47bc-fc9c-ea7222357f6f"
   },
   "outputs": [
    {
     "name": "stdout",
     "output_type": "stream",
     "text": [
      "[[56847    17]\n",
      " [   28    70]]\n"
     ]
    }
   ],
   "source": [
    "print(confusion_matrix(y_test, y_test_pred))"
   ]
  },
  {
   "cell_type": "code",
   "execution_count": 66,
   "metadata": {
    "colab": {
     "base_uri": "https://localhost:8080/"
    },
    "id": "MDgF7f7iuBbj",
    "outputId": "c40c468f-be30-4add-ae1b-31e0ebab22e6"
   },
   "outputs": [
    {
     "data": {
      "image/png": "[encoded data removed]",
      "text/plain": [
       "<Figure size 432x288 with 2 Axes>"
      ]
     },
     "metadata": {
      "needs_background": "light"
     },
     "output_type": "display_data"
    }
   ],
   "source": [
    "dt_cmat = confusion_matrix(y_test, y_test_pred)\n",
    "plot_confusion_matrix(conf_mat=dt_cmat, cmap='Dark2_r', colorbar=True)\n",
    "plt.show()"
   ]
  },
  {
   "cell_type": "code",
   "execution_count": 67,
   "metadata": {
    "colab": {
     "base_uri": "https://localhost:8080/"
    },
    "id": "LmlA469vUHIl",
    "outputId": "57476eec-2658-4df6-ec30-345b09abf3b9"
   },
   "outputs": [
    {
     "name": "stdout",
     "output_type": "stream",
     "text": [
      "              precision    recall  f1-score   support\n",
      "\n",
      "           0       1.00      1.00      1.00     56864\n",
      "           1       0.80      0.71      0.76        98\n",
      "\n",
      "    accuracy                           1.00     56962\n",
      "   macro avg       0.90      0.86      0.88     56962\n",
      "weighted avg       1.00      1.00      1.00     56962\n",
      "\n"
     ]
    }
   ],
   "source": [
    "print(classification_report(y_test, y_test_pred))"
   ]
  },
  {
   "cell_type": "code",
   "execution_count": 68,
   "metadata": {
    "id": "3LtT93onuPGF"
   },
   "outputs": [],
   "source": [
    "preci.append(precision_score(y_test, y_test_pred, average='macro'))\n",
    "recall.append(recall_score(y_test, y_test_pred, average='macro'))\n",
    "f1.append(f1_score(y_test, y_test_pred, average='macro'))"
   ]
  },
  {
   "cell_type": "markdown",
   "metadata": {
    "id": "_My0rWPgUcC-"
   },
   "source": [
    "###Gaussian Naive Bayes"
   ]
  },
  {
   "cell_type": "code",
   "execution_count": 69,
   "metadata": {
    "id": "FoN_LTr1UdtV"
   },
   "outputs": [],
   "source": [
    "from sklearn.naive_bayes import GaussianNB"
   ]
  },
  {
   "cell_type": "code",
   "execution_count": 70,
   "metadata": {
    "id": "XLIV1YJtUy7S"
   },
   "outputs": [],
   "source": [
    "gnb_clf = GaussianNB().fit(X_train, y_train)"
   ]
  },
  {
   "cell_type": "code",
   "execution_count": 71,
   "metadata": {
    "colab": {
     "base_uri": "https://localhost:8080/"
    },
    "id": "67tBnMZmU8nR",
    "outputId": "e73411fb-8e71-4c01-c764-a28a12300c3b"
   },
   "outputs": [
    {
     "name": "stdout",
     "output_type": "stream",
     "text": [
      "Accuracy on Testing data:  0.9933288859239493\n"
     ]
    }
   ],
   "source": [
    "y_test_pred = gnb_clf.predict(X_test)\n",
    "\n",
    "testing_data_accuracy = accuracy_score(y_test, y_test_pred)\n",
    "scores.append(testing_data_accuracy)\n",
    "print('Accuracy on Testing data: ', testing_data_accuracy)"
   ]
  },
  {
   "cell_type": "code",
   "execution_count": 72,
   "metadata": {
    "colab": {
     "base_uri": "https://localhost:8080/"
    },
    "id": "zYoMsxHDVDZl",
    "outputId": "5f840d73-f53a-4e4a-bc01-3ae199f1c320"
   },
   "outputs": [
    {
     "name": "stdout",
     "output_type": "stream",
     "text": [
      "[[56523   341]\n",
      " [   39    59]]\n"
     ]
    }
   ],
   "source": [
    "print(confusion_matrix(y_test, y_test_pred))"
   ]
  },
  {
   "cell_type": "code",
   "execution_count": 73,
   "metadata": {
    "colab": {
     "base_uri": "https://localhost:8080/"
    },
    "id": "EZ8o2jlTuUH4",
    "outputId": "3aa48d1c-0d07-4360-fc66-1bf857282234"
   },
   "outputs": [
    {
     "data": {
      "image/png": "[encoded data removed]",
      "text/plain": [
       "<Figure size 432x288 with 2 Axes>"
      ]
     },
     "metadata": {
      "needs_background": "light"
     },
     "output_type": "display_data"
    }
   ],
   "source": [
    "gnb_cmat = confusion_matrix(y_test, y_test_pred)\n",
    "plot_confusion_matrix(conf_mat=gnb_cmat, cmap='Dark2_r', colorbar=True)\n",
    "plt.show()"
   ]
  },
  {
   "cell_type": "code",
   "execution_count": 74,
   "metadata": {
    "colab": {
     "base_uri": "https://localhost:8080/"
    },
    "id": "mdAU2OYFVWsn",
    "outputId": "f20f14ee-3928-4b16-a0fe-dd5460dd2880"
   },
   "outputs": [
    {
     "name": "stdout",
     "output_type": "stream",
     "text": [
      "              precision    recall  f1-score   support\n",
      "\n",
      "           0       1.00      0.99      1.00     56864\n",
      "           1       0.15      0.60      0.24        98\n",
      "\n",
      "    accuracy                           0.99     56962\n",
      "   macro avg       0.57      0.80      0.62     56962\n",
      "weighted avg       1.00      0.99      1.00     56962\n",
      "\n"
     ]
    }
   ],
   "source": [
    "print(classification_report(y_test, y_test_pred))"
   ]
  },
  {
   "cell_type": "code",
   "execution_count": 75,
   "metadata": {
    "id": "-d7niOokuXIn"
   },
   "outputs": [],
   "source": [
    "preci.append(precision_score(y_test, y_test_pred, average='macro'))\n",
    "recall.append(recall_score(y_test, y_test_pred, average='macro'))\n",
    "f1.append(f1_score(y_test, y_test_pred, average='macro'))"
   ]
  },
  {
   "cell_type": "markdown",
   "metadata": {
    "id": "tgUxsgxDVjNk"
   },
   "source": [
    "###Gradient Boosting"
   ]
  },
  {
   "cell_type": "code",
   "execution_count": 76,
   "metadata": {
    "id": "ivlvAD0uXCkO"
   },
   "outputs": [],
   "source": [
    "from sklearn.ensemble import GradientBoostingClassifier"
   ]
  },
  {
   "cell_type": "code",
   "execution_count": 77,
   "metadata": {
    "id": "mZyV_wZGWrVl"
   },
   "outputs": [],
   "source": [
    "gb_clf = GradientBoostingClassifier(n_estimators=300, learning_rate=1.0, max_depth=1, random_state=0)\n",
    "gb_clf = gb_clf.fit(X_train, y_train)"
   ]
  },
  {
   "cell_type": "code",
   "execution_count": 78,
   "metadata": {
    "colab": {
     "base_uri": "https://localhost:8080/"
    },
    "id": "4K5uIVHiXIyF",
    "outputId": "3a530bca-6cf2-4b37-ebb8-b65bb9abda8d"
   },
   "outputs": [
    {
     "name": "stdout",
     "output_type": "stream",
     "text": [
      "Accuracy on Testing data:  0.9990519995786665\n"
     ]
    }
   ],
   "source": [
    "y_test_pred = gb_clf.predict(X_test)\n",
    "\n",
    "testing_data_accuracy = accuracy_score(y_test, y_test_pred)\n",
    "scores.append(testing_data_accuracy)\n",
    "print('Accuracy on Testing data: ', testing_data_accuracy)"
   ]
  },
  {
   "cell_type": "code",
   "execution_count": 79,
   "metadata": {
    "colab": {
     "base_uri": "https://localhost:8080/"
    },
    "id": "3lvvb9D0XI9c",
    "outputId": "ea023179-75fd-45ac-cf3b-c8b538f4e5bf"
   },
   "outputs": [
    {
     "name": "stdout",
     "output_type": "stream",
     "text": [
      "[[56841    23]\n",
      " [   31    67]]\n"
     ]
    }
   ],
   "source": [
    "print(confusion_matrix(y_test, y_test_pred))"
   ]
  },
  {
   "cell_type": "code",
   "execution_count": 80,
   "metadata": {
    "colab": {
     "base_uri": "https://localhost:8080/"
    },
    "id": "W8QirEJRuatR",
    "outputId": "d71fedac-dc24-4c27-d358-4cd6d092528b"
   },
   "outputs": [
    {
     "data": {
      "image/png": "[encoded data removed]",
      "text/plain": [
       "<Figure size 432x288 with 2 Axes>"
      ]
     },
     "metadata": {
      "needs_background": "light"
     },
     "output_type": "display_data"
    }
   ],
   "source": [
    "gb_cmat = confusion_matrix(y_test, y_test_pred)\n",
    "plot_confusion_matrix(conf_mat=gb_cmat, cmap='Dark2_r', colorbar=True)\n",
    "plt.show()"
   ]
  },
  {
   "cell_type": "code",
   "execution_count": 81,
   "metadata": {
    "colab": {
     "base_uri": "https://localhost:8080/"
    },
    "id": "dZ0chlPIXZs4",
    "outputId": "f88a5fb2-e401-4a6a-e856-1ece6ec2a01e"
   },
   "outputs": [
    {
     "name": "stdout",
     "output_type": "stream",
     "text": [
      "              precision    recall  f1-score   support\n",
      "\n",
      "           0       1.00      1.00      1.00     56864\n",
      "           1       0.74      0.68      0.71        98\n",
      "\n",
      "    accuracy                           1.00     56962\n",
      "   macro avg       0.87      0.84      0.86     56962\n",
      "weighted avg       1.00      1.00      1.00     56962\n",
      "\n"
     ]
    }
   ],
   "source": [
    "print(classification_report(y_test, y_test_pred))"
   ]
  },
  {
   "cell_type": "code",
   "execution_count": 82,
   "metadata": {
    "id": "T6VKsW0-uf6_"
   },
   "outputs": [],
   "source": [
    "preci.append(precision_score(y_test, y_test_pred, average='macro'))\n",
    "recall.append(recall_score(y_test, y_test_pred, average='macro'))\n",
    "f1.append(f1_score(y_test, y_test_pred, average='macro'))"
   ]
  },
  {
   "cell_type": "markdown",
   "metadata": {
    "id": "8029zomIXrX6"
   },
   "source": [
    "### K-Nearest Neighbors(KNN)"
   ]
  },
  {
   "cell_type": "code",
   "execution_count": 83,
   "metadata": {
    "id": "AM1hJuYbXwau"
   },
   "outputs": [],
   "source": [
    "from sklearn.neighbors import KNeighborsClassifier"
   ]
  },
  {
   "cell_type": "code",
   "execution_count": 84,
   "metadata": {
    "colab": {
     "base_uri": "https://localhost:8080/"
    },
    "id": "8M1u4frLHCqg",
    "outputId": "06dd1209-2da4-4144-9025-9a6736f45d9b"
   },
   "outputs": [
    {
     "name": "stdout",
     "output_type": "stream",
     "text": [
      "over sampled dataset shape Counter({0: 227451, 1: 394})\n"
     ]
    }
   ],
   "source": [
    "print('over sampled dataset shape %s' % Counter(y_train))"
   ]
  },
  {
   "cell_type": "code",
   "execution_count": 85,
   "metadata": {
    "id": "kL2YvDt6Xzji"
   },
   "outputs": [],
   "source": [
    "knn_clf = KNeighborsClassifier(n_neighbors=5)\n",
    "knn_clf = knn_clf.fit(X_train_norm, y_train)"
   ]
  },
  {
   "cell_type": "code",
   "execution_count": 86,
   "metadata": {
    "colab": {
     "base_uri": "https://localhost:8080/"
    },
    "id": "oziJzUZAYD3o",
    "outputId": "07390000-0dbd-479d-d9ae-db82cc0c2545"
   },
   "outputs": [
    {
     "name": "stdout",
     "output_type": "stream",
     "text": [
      "Accuracy on Testing data:  0.999403110845827\n"
     ]
    }
   ],
   "source": [
    "y_test_pred = knn_clf.predict(X_test_norm)\n",
    "\n",
    "testing_data_accuracy = accuracy_score(y_test, y_test_pred)\n",
    "scores.append(testing_data_accuracy)\n",
    "print('Accuracy on Testing data: ', testing_data_accuracy)"
   ]
  },
  {
   "cell_type": "code",
   "execution_count": 87,
   "metadata": {
    "colab": {
     "base_uri": "https://localhost:8080/"
    },
    "id": "s0GLmaI6YJ0V",
    "outputId": "96fa8d2a-ca60-4a4f-ee6b-0867b973a65c"
   },
   "outputs": [
    {
     "name": "stdout",
     "output_type": "stream",
     "text": [
      "[[56858     6]\n",
      " [   28    70]]\n"
     ]
    }
   ],
   "source": [
    "print(confusion_matrix(y_test, y_test_pred))"
   ]
  },
  {
   "cell_type": "code",
   "execution_count": 88,
   "metadata": {
    "colab": {
     "base_uri": "https://localhost:8080/",
     "height": 279
    },
    "id": "xnsL5S_GunBv",
    "outputId": "9001463b-d4a3-4944-8f34-92cdfe2e5e36"
   },
   "outputs": [
    {
     "data": {
      "image/png": "[encoded data removed]",
      "text/plain": [
       "<Figure size 432x288 with 2 Axes>"
      ]
     },
     "metadata": {
      "needs_background": "light"
     },
     "output_type": "display_data"
    }
   ],
   "source": [
    "knn_cmat = confusion_matrix(y_test, y_test_pred)\n",
    "plot_confusion_matrix(conf_mat=knn_cmat, cmap='Dark2_r', colorbar=True)\n",
    "plt.show()"
   ]
  },
  {
   "cell_type": "code",
   "execution_count": 89,
   "metadata": {
    "colab": {
     "base_uri": "https://localhost:8080/"
    },
    "id": "gqrPyFIJYdjd",
    "outputId": "09ea74c4-1aa2-4420-8e9b-f2c6e839027a"
   },
   "outputs": [
    {
     "name": "stdout",
     "output_type": "stream",
     "text": [
      "              precision    recall  f1-score   support\n",
      "\n",
      "           0       1.00      1.00      1.00     56864\n",
      "           1       0.92      0.71      0.80        98\n",
      "\n",
      "    accuracy                           1.00     56962\n",
      "   macro avg       0.96      0.86      0.90     56962\n",
      "weighted avg       1.00      1.00      1.00     56962\n",
      "\n"
     ]
    }
   ],
   "source": [
    "print(classification_report(y_test, y_test_pred))"
   ]
  },
  {
   "cell_type": "code",
   "execution_count": 90,
   "metadata": {
    "id": "6dXN53usuoKP"
   },
   "outputs": [],
   "source": [
    "preci.append(precision_score(y_test, y_test_pred, average='macro'))\n",
    "recall.append(recall_score(y_test, y_test_pred, average='macro'))\n",
    "f1.append(f1_score(y_test, y_test_pred, average='macro'))"
   ]
  },
  {
   "cell_type": "code",
   "execution_count": 91,
   "metadata": {
    "id": "WMgceK1FyuL9"
   },
   "outputs": [],
   "source": [
    "from sklearn.metrics import precision_recall_fscore_support"
   ]
  },
  {
   "cell_type": "markdown",
   "metadata": {
    "id": "CIzFU2f5fcnn"
   },
   "source": [
    "###Voting Classifier"
   ]
  },
  {
   "cell_type": "code",
   "execution_count": 92,
   "metadata": {
    "id": "FvgEIvYWyxBJ"
   },
   "outputs": [],
   "source": [
    "from sklearn.ensemble import VotingClassifier"
   ]
  },
  {
   "cell_type": "code",
   "execution_count": 93,
   "metadata": {
    "id": "_pTOgjlafZ_n"
   },
   "outputs": [],
   "source": [
    "labels = [\"Logistic Regression\", \"Xgboost\", \"Supervised NN\"]"
   ]
  },
  {
   "cell_type": "code",
   "execution_count": 94,
   "metadata": {
    "id": "mswIrAkrnG2M"
   },
   "outputs": [],
   "source": [
    "from sklearn.ensemble import VotingClassifier"
   ]
  },
  {
   "cell_type": "code",
   "execution_count": null,
   "metadata": {
    "colab": {
     "base_uri": "https://localhost:8080/"
    },
    "id": "VouQEYPql6zg",
    "outputId": "153f3361-c4e4-4d01-805c-2513791548f0"
   },
   "outputs": [],
   "source": [
    "voting_clf = VotingClassifier (estimators = [('nn', nn_clf),('xgboost', xgb_clf), ('RF', rf_clf) ],\n",
    "voting='soft')\n",
    "    \n",
    "voting_clf.fit(X_train,y_train)"
   ]
  },
  {
   "cell_type": "code",
   "execution_count": 96,
   "metadata": {
    "colab": {
     "base_uri": "https://localhost:8080/"
    },
    "id": "OardrFRwngmV",
    "outputId": "bd6b5cbe-709c-4b22-dfb4-ee62da3d3f15"
   },
   "outputs": [
    {
     "name": "stdout",
     "output_type": "stream",
     "text": [
      "Accuracy on Testing data:  0.9994733330992591\n"
     ]
    }
   ],
   "source": [
    "y_test_pred = voting_clf.predict(X_test)\n",
    "\n",
    "testing_data_accuracy = accuracy_score(y_test, y_test_pred)\n",
    "scores.append(testing_data_accuracy)\n",
    "print('Accuracy on Testing data: ', testing_data_accuracy)"
   ]
  },
  {
   "cell_type": "code",
   "execution_count": 97,
   "metadata": {
    "colab": {
     "base_uri": "https://localhost:8080/"
    },
    "id": "gpdtngVXqMGp",
    "outputId": "4d016bd3-fd9b-4cb8-e4fe-832b8986d97e"
   },
   "outputs": [
    {
     "name": "stdout",
     "output_type": "stream",
     "text": [
      "[[56862     2]\n",
      " [   28    70]]\n"
     ]
    }
   ],
   "source": [
    "print(confusion_matrix(y_test, y_test_pred))"
   ]
  },
  {
   "cell_type": "code",
   "execution_count": 98,
   "metadata": {
    "colab": {
     "base_uri": "https://localhost:8080/"
    },
    "id": "btrnbc1ruyJs",
    "outputId": "1ba268eb-83ad-44c1-9de4-e034d5877f5e"
   },
   "outputs": [
    {
     "data": {
      "image/png": "[encoded data removed]",
      "text/plain": [
       "<Figure size 432x288 with 2 Axes>"
      ]
     },
     "metadata": {
      "needs_background": "light"
     },
     "output_type": "display_data"
    }
   ],
   "source": [
    "voting_cmat = confusion_matrix(y_test, y_test_pred)\n",
    "plot_confusion_matrix(conf_mat=voting_cmat, cmap='Dark2_r', colorbar=True)\n",
    "plt.show()"
   ]
  },
  {
   "cell_type": "code",
   "execution_count": 99,
   "metadata": {
    "colab": {
     "base_uri": "https://localhost:8080/"
    },
    "id": "IDdQSl5vZv0K",
    "outputId": "26742eeb-b215-463a-cd6c-1515260b5776"
   },
   "outputs": [
    {
     "name": "stdout",
     "output_type": "stream",
     "text": [
      "              precision    recall  f1-score   support\n",
      "\n",
      "           0       1.00      1.00      1.00     56864\n",
      "           1       0.97      0.71      0.82        98\n",
      "\n",
      "    accuracy                           1.00     56962\n",
      "   macro avg       0.99      0.86      0.91     56962\n",
      "weighted avg       1.00      1.00      1.00     56962\n",
      "\n"
     ]
    }
   ],
   "source": [
    "print(classification_report(y_test, y_test_pred))"
   ]
  },
  {
   "cell_type": "code",
   "execution_count": 100,
   "metadata": {
    "id": "574f7W27sjeb"
   },
   "outputs": [],
   "source": [
    "preci.append(precision_score(y_test, y_test_pred, average='macro'))\n",
    "recall.append(recall_score(y_test, y_test_pred, average='macro'))\n",
    "f1.append(f1_score(y_test, y_test_pred, average='macro'))"
   ]
  },
  {
   "cell_type": "markdown",
   "metadata": {
    "id": "dySNS03fDS6E"
   },
   "source": [
    "###Support vector machine(SVM)"
   ]
  },
  {
   "cell_type": "code",
   "execution_count": 101,
   "metadata": {
    "id": "ykHUF_DDDhoR"
   },
   "outputs": [],
   "source": [
    "from sklearn.svm import LinearSVC"
   ]
  },
  {
   "cell_type": "code",
   "execution_count": 102,
   "metadata": {
    "id": "ZHe94uj44Eq-"
   },
   "outputs": [],
   "source": [
    "svm_clf = svm.SVC(kernel='linear', gamma = 'auto', C = 2, probability=True).fit(X_train, y_train)"
   ]
  },
  {
   "cell_type": "code",
   "execution_count": 103,
   "metadata": {
    "id": "xR_k_BcsD1sQ"
   },
   "outputs": [],
   "source": [
    "y_test_pred = svm_clf.predict(X_test)"
   ]
  },
  {
   "cell_type": "code",
   "execution_count": 104,
   "metadata": {
    "id": "iUxZjS06MXXO",
    "outputId": "a866be91-efd9-4961-ffd9-5e3b7045dd81"
   },
   "outputs": [
    {
     "name": "stdout",
     "output_type": "stream",
     "text": [
      "Accuracy on Testing data:  0.9985428882412837\n"
     ]
    }
   ],
   "source": [
    "testing_data_accuracy = accuracy_score(y_test, y_test_pred)\n",
    "scores.append(testing_data_accuracy)\n",
    "print('Accuracy on Testing data: ', testing_data_accuracy)"
   ]
  },
  {
   "cell_type": "code",
   "execution_count": 105,
   "metadata": {
    "id": "BRSs-ZQ_KGE5",
    "outputId": "cc561327-4da4-4830-fcd8-08f8d0b0abc5"
   },
   "outputs": [
    {
     "name": "stdout",
     "output_type": "stream",
     "text": [
      "[[56850    14]\n",
      " [   69    29]]\n"
     ]
    }
   ],
   "source": [
    "print(confusion_matrix(y_test, y_test_pred))"
   ]
  },
  {
   "cell_type": "code",
   "execution_count": 106,
   "metadata": {
    "id": "EvP82qCQtPwQ",
    "outputId": "94acf202-f68f-4a23-8830-de0dd9cd8b24"
   },
   "outputs": [
    {
     "data": {
      "image/png": "[encoded data removed]",
      "text/plain": [
       "<Figure size 432x288 with 2 Axes>"
      ]
     },
     "metadata": {
      "needs_background": "light"
     },
     "output_type": "display_data"
    }
   ],
   "source": [
    "svm_cmat = confusion_matrix(y_test, y_test_pred)\n",
    "plot_confusion_matrix(conf_mat=svm_cmat, cmap='Dark2_r', colorbar=True)\n",
    "plt.show()"
   ]
  },
  {
   "cell_type": "code",
   "execution_count": 107,
   "metadata": {
    "id": "bWzirlmNKUl6",
    "outputId": "34eaafcc-e237-42b0-9636-c532c0ded812"
   },
   "outputs": [
    {
     "name": "stdout",
     "output_type": "stream",
     "text": [
      "              precision    recall  f1-score   support\n",
      "\n",
      "           0       1.00      1.00      1.00     56864\n",
      "           1       0.67      0.30      0.41        98\n",
      "\n",
      "    accuracy                           1.00     56962\n",
      "   macro avg       0.84      0.65      0.71     56962\n",
      "weighted avg       1.00      1.00      1.00     56962\n",
      "\n"
     ]
    }
   ],
   "source": [
    "print(classification_report(y_test, y_test_pred))"
   ]
  },
  {
   "cell_type": "code",
   "execution_count": 108,
   "metadata": {
    "id": "qK3cGtFjtRpm"
   },
   "outputs": [],
   "source": [
    "preci.append(precision_score(y_test, y_test_pred, average='macro'))\n",
    "recall.append(recall_score(y_test, y_test_pred, average='macro'))\n",
    "f1.append(f1_score(y_test, y_test_pred, average='macro'))"
   ]
  },
  {
   "cell_type": "markdown",
   "metadata": {
    "id": "l3O9FZFkhQYK"
   },
   "source": [
    "### Result"
   ]
  },
  {
   "cell_type": "code",
   "execution_count": 109,
   "metadata": {
    "id": "3RC8E0umu7Jz"
   },
   "outputs": [],
   "source": [
    "scores = [round(x*100, 2)  for x in scores]\n",
    "preci = [round(x*100, 2)  for x in preci]\n",
    "recall = [round(x*100, 2)  for x in recall]\n",
    "f1 = [round(x*100, 2)  for x in f1]"
   ]
  },
  {
   "cell_type": "code",
   "execution_count": 110,
   "metadata": {
    "colab": {
     "base_uri": "https://localhost:8080/"
    },
    "id": "fWS2zEpDl6PX",
    "outputId": "82462ce5-6910-44bd-dd77-63aacb9aa5ed"
   },
   "outputs": [
    {
     "data": {
      "text/html": [
       "<style type=\"text/css\">\n",
       "#T_87ac2_row0_col1, #T_87ac2_row8_col1 {\n",
       "  background-color: #870f87;\n",
       "  color: #f1f1f1;\n",
       "}\n",
       "#T_87ac2_row1_col1, #T_87ac2_row2_col1, #T_87ac2_row10_col1 {\n",
       "  background-color: #800080;\n",
       "  color: #f1f1f1;\n",
       "}\n",
       "#T_87ac2_row3_col1, #T_87ac2_row9_col1 {\n",
       "  background-color: #820482;\n",
       "  color: #f1f1f1;\n",
       "}\n",
       "#T_87ac2_row4_col1 {\n",
       "  background-color: #891389;\n",
       "  color: #f1f1f1;\n",
       "}\n",
       "#T_87ac2_row5_col1 {\n",
       "  background-color: #840884;\n",
       "  color: #f1f1f1;\n",
       "}\n",
       "#T_87ac2_row6_col1 {\n",
       "  background-color: #850b85;\n",
       "  color: #f1f1f1;\n",
       "}\n",
       "#T_87ac2_row7_col1 {\n",
       "  background-color: #f3f0f3;\n",
       "  color: #000000;\n",
       "}\n",
       "#T_87ac2_row11_col1 {\n",
       "  background-color: #922792;\n",
       "  color: #f1f1f1;\n",
       "}\n",
       "</style>\n",
       "<table id=\"T_87ac2\">\n",
       "  <thead>\n",
       "    <tr>\n",
       "      <th class=\"blank level0\" >&nbsp;</th>\n",
       "      <th id=\"T_87ac2_level0_col0\" class=\"col_heading level0 col0\" >Classifier Name</th>\n",
       "      <th id=\"T_87ac2_level0_col1\" class=\"col_heading level0 col1\" >Accuracy Score</th>\n",
       "    </tr>\n",
       "  </thead>\n",
       "  <tbody>\n",
       "    <tr>\n",
       "      <th id=\"T_87ac2_level0_row0\" class=\"row_heading level0 row0\" >0</th>\n",
       "      <td id=\"T_87ac2_row0_col0\" class=\"data row0 col0\" >LR</td>\n",
       "      <td id=\"T_87ac2_row0_col1\" class=\"data row0 col1\" >99.910000</td>\n",
       "    </tr>\n",
       "    <tr>\n",
       "      <th id=\"T_87ac2_level0_row1\" class=\"row_heading level0 row1\" >1</th>\n",
       "      <td id=\"T_87ac2_row1_col0\" class=\"data row1 col0\" >RF</td>\n",
       "      <td id=\"T_87ac2_row1_col1\" class=\"data row1 col1\" >99.950000</td>\n",
       "    </tr>\n",
       "    <tr>\n",
       "      <th id=\"T_87ac2_level0_row2\" class=\"row_heading level0 row2\" >2</th>\n",
       "      <td id=\"T_87ac2_row2_col0\" class=\"data row2 col0\" >XGBoost</td>\n",
       "      <td id=\"T_87ac2_row2_col1\" class=\"data row2 col1\" >99.950000</td>\n",
       "    </tr>\n",
       "    <tr>\n",
       "      <th id=\"T_87ac2_level0_row3\" class=\"row_heading level0 row3\" >3</th>\n",
       "      <td id=\"T_87ac2_row3_col0\" class=\"data row3 col0\" >Ada Boost</td>\n",
       "      <td id=\"T_87ac2_row3_col1\" class=\"data row3 col1\" >99.940000</td>\n",
       "    </tr>\n",
       "    <tr>\n",
       "      <th id=\"T_87ac2_level0_row4\" class=\"row_heading level0 row4\" >4</th>\n",
       "      <td id=\"T_87ac2_row4_col0\" class=\"data row4 col0\" >SGD</td>\n",
       "      <td id=\"T_87ac2_row4_col1\" class=\"data row4 col1\" >99.900000</td>\n",
       "    </tr>\n",
       "    <tr>\n",
       "      <th id=\"T_87ac2_level0_row5\" class=\"row_heading level0 row5\" >5</th>\n",
       "      <td id=\"T_87ac2_row5_col0\" class=\"data row5 col0\" >NN(Supervised)</td>\n",
       "      <td id=\"T_87ac2_row5_col1\" class=\"data row5 col1\" >99.930000</td>\n",
       "    </tr>\n",
       "    <tr>\n",
       "      <th id=\"T_87ac2_level0_row6\" class=\"row_heading level0 row6\" >6</th>\n",
       "      <td id=\"T_87ac2_row6_col0\" class=\"data row6 col0\" >DT</td>\n",
       "      <td id=\"T_87ac2_row6_col1\" class=\"data row6 col1\" >99.920000</td>\n",
       "    </tr>\n",
       "    <tr>\n",
       "      <th id=\"T_87ac2_level0_row7\" class=\"row_heading level0 row7\" >7</th>\n",
       "      <td id=\"T_87ac2_row7_col0\" class=\"data row7 col0\" >GNB</td>\n",
       "      <td id=\"T_87ac2_row7_col1\" class=\"data row7 col1\" >99.330000</td>\n",
       "    </tr>\n",
       "    <tr>\n",
       "      <th id=\"T_87ac2_level0_row8\" class=\"row_heading level0 row8\" >8</th>\n",
       "      <td id=\"T_87ac2_row8_col0\" class=\"data row8 col0\" >GB</td>\n",
       "      <td id=\"T_87ac2_row8_col1\" class=\"data row8 col1\" >99.910000</td>\n",
       "    </tr>\n",
       "    <tr>\n",
       "      <th id=\"T_87ac2_level0_row9\" class=\"row_heading level0 row9\" >9</th>\n",
       "      <td id=\"T_87ac2_row9_col0\" class=\"data row9 col0\" >KNN</td>\n",
       "      <td id=\"T_87ac2_row9_col1\" class=\"data row9 col1\" >99.940000</td>\n",
       "    </tr>\n",
       "    <tr>\n",
       "      <th id=\"T_87ac2_level0_row10\" class=\"row_heading level0 row10\" >10</th>\n",
       "      <td id=\"T_87ac2_row10_col0\" class=\"data row10 col0\" >VC</td>\n",
       "      <td id=\"T_87ac2_row10_col1\" class=\"data row10 col1\" >99.950000</td>\n",
       "    </tr>\n",
       "    <tr>\n",
       "      <th id=\"T_87ac2_level0_row11\" class=\"row_heading level0 row11\" >11</th>\n",
       "      <td id=\"T_87ac2_row11_col0\" class=\"data row11 col0\" >SVM</td>\n",
       "      <td id=\"T_87ac2_row11_col1\" class=\"data row11 col1\" >99.850000</td>\n",
       "    </tr>\n",
       "  </tbody>\n",
       "</table>\n"
      ],
      "text/plain": [
       "<pandas.io.formats.style.Styler at 0x24ec93c5640>"
      ]
     },
     "execution_count": 110,
     "metadata": {},
     "output_type": "execute_result"
    }
   ],
   "source": [
    "df = pd.DataFrame()\n",
    "df['Classifier Name'] = names\n",
    "df['Accuracy Score'] = scores\n",
    "cm = sns.light_palette(\"purple\", as_cmap=True)\n",
    "s = df.style.background_gradient(cmap=cm)\n",
    "s"
   ]
  },
  {
   "cell_type": "code",
   "execution_count": 111,
   "metadata": {
    "colab": {
     "base_uri": "https://localhost:8080/"
    },
    "id": "KQ6u5vD_z0vn",
    "outputId": "b30bc9c6-2a76-4a19-aae6-62c3fb7a6f2c"
   },
   "outputs": [
    {
     "data": {
      "image/png": "[encoded data removed]",
      "text/plain": [
       "<Figure size 432x288 with 1 Axes>"
      ]
     },
     "metadata": {},
     "output_type": "display_data"
    }
   ],
   "source": [
    "sns.set(style=\"whitegrid\")\n",
    "ax = sns.barplot(y=\"Classifier Name\", x=\"Accuracy Score\", data = df)"
   ]
  },
  {
   "cell_type": "markdown",
   "metadata": {
    "id": "_VMC5vrAwP40"
   },
   "source": [
    "###ROC Curve"
   ]
  },
  {
   "cell_type": "code",
   "execution_count": 112,
   "metadata": {
    "id": "RX3WXRT4b8hN"
   },
   "outputs": [],
   "source": [
    "r_probs = [0 for _ in range(len(y_test))]\n",
    "lr_probs = lr_clf.predict_proba(X_test)\n",
    "rf_probs = rf_clf.predict_proba(X_test)\n",
    "xgb_probs = xgb_clf.predict_proba(X_test)\n",
    "adaboost_probs = adaboost_clf.predict_proba(X_test)\n",
    "sgd_probs = sgd_clf.predict_proba(X_test)\n",
    "nn_probs = nn_clf.predict_proba(X_test)\n",
    "dt_probs = dt_clf.predict_proba(X_test)\n",
    "gnb_probs = gnb_clf.predict_proba(X_test)\n",
    "gb_probs = gb_clf.predict_proba(X_test)\n",
    "knn_probs = knn_clf.predict_proba(X_test)\n",
    "voting_probs = voting_clf.predict_proba(X_test)\n",
    "svm_probs = svm_clf.predict_proba(X_test)"
   ]
  },
  {
   "cell_type": "code",
   "execution_count": 113,
   "metadata": {
    "id": "lEStlGS3wwUJ"
   },
   "outputs": [],
   "source": [
    "lr_probs = lr_probs[:, 1]\n",
    "rf_probs = rf_probs[:, 1]\n",
    "xgb_probs = xgb_probs[:, 1]\n",
    "svm_probs = svm_probs[:, 1]\n",
    "adaboost_probs = adaboost_probs[:, 1]\n",
    "sgd_probs = sgd_probs[:, 1]\n",
    "nn_probs = nn_probs[:, 1]\n",
    "dt_probs = dt_probs[:, 1]\n",
    "gnb_probs = gnb_probs[:, 1]\n",
    "gb_probs = gb_probs[:, 1]\n",
    "knn_probs = knn_probs[:, 1]\n",
    "voting_probs = voting_probs[:, 1]"
   ]
  },
  {
   "cell_type": "code",
   "execution_count": 114,
   "metadata": {
    "id": "GEpiEE0f3AiI"
   },
   "outputs": [],
   "source": [
    "from sklearn.metrics import roc_curve, roc_auc_score"
   ]
  },
  {
   "cell_type": "code",
   "execution_count": 115,
   "metadata": {
    "id": "q0UOI_nW1avj"
   },
   "outputs": [],
   "source": [
    "r_auc = roc_auc_score(y_test, r_probs)\n",
    "lr_auc = roc_auc_score(y_test, lr_probs)\n",
    "rf_auc = roc_auc_score(y_test, rf_probs)\n",
    "xgb_auc = roc_auc_score(y_test, xgb_probs)\n",
    "adaboost_auc = roc_auc_score(y_test, adaboost_probs)\n",
    "sgd_auc = roc_auc_score(y_test, sgd_probs)\n",
    "nn_auc = roc_auc_score(y_test, nn_probs)\n",
    "dt_auc = roc_auc_score(y_test, dt_probs)\n",
    "gnb_auc = roc_auc_score(y_test, gnb_probs)\n",
    "gb_auc = roc_auc_score(y_test, gb_probs)\n",
    "knn_auc = roc_auc_score(y_test, knn_probs)\n",
    "voting_auc = roc_auc_score(y_test, voting_probs)\n",
    "svm_auc = roc_auc_score(y_test, svm_probs)"
   ]
  },
  {
   "cell_type": "code",
   "execution_count": 116,
   "metadata": {
    "colab": {
     "base_uri": "https://localhost:8080/"
    },
    "id": "J0dU8tER-z2s",
    "outputId": "0bb8939d-67ea-4f39-e4c2-da91f277993c"
   },
   "outputs": [
    {
     "name": "stdout",
     "output_type": "stream",
     "text": [
      "Random (chance) Prediction: AUROC = 0.500\n",
      "Random Forest: AUROC = 0.916\n",
      "Naive Bayes: AUROC = 0.961\n"
     ]
    }
   ],
   "source": [
    "print('Random (chance) Prediction: AUROC = %.3f' % (r_auc))\n",
    "print('Random Forest: AUROC = %.3f' % (rf_auc))\n",
    "print('Naive Bayes: AUROC = %.3f' % (gnb_auc))"
   ]
  },
  {
   "cell_type": "code",
   "execution_count": 117,
   "metadata": {
    "colab": {
     "base_uri": "https://localhost:8080/"
    },
    "id": "idIDAztfAT6-",
    "outputId": "c7ce547f-7e9a-472c-866f-50ff6066caa6"
   },
   "outputs": [
    {
     "data": {
      "text/plain": [
       "numpy.ndarray"
      ]
     },
     "execution_count": 117,
     "metadata": {},
     "output_type": "execute_result"
    }
   ],
   "source": [
    "type(lr_probs)"
   ]
  },
  {
   "cell_type": "code",
   "execution_count": 118,
   "metadata": {
    "id": "Fq8MgTYr4l3o"
   },
   "outputs": [],
   "source": [
    "r_fpr, r_tpr, _ = roc_curve(y_test, r_probs)\n",
    "lr_fpr, lr_tpr, _ = roc_curve(y_test, lr_probs)\n",
    "rf_fpr, rf_tpr, _ = roc_curve(y_test, rf_probs)\n",
    "xgb_fpr, xgb_tpr, _ = roc_curve(y_test, xgb_probs)\n",
    "adaboost_fpr, adaboost_tpr, _ = roc_curve(y_test, adaboost_probs)\n",
    "sgd_fpr, sgd_tpr, _ = roc_curve(y_test, sgd_probs)\n",
    "nn_fpr, nn_tpr, _ = roc_curve(y_test, nn_probs)\n",
    "dt_fpr, dt_tpr, _ = roc_curve(y_test, dt_probs)\n",
    "gnb_fpr, gnb_tpr, _ = roc_curve(y_test, gnb_probs)\n",
    "gb_fpr, gb_tpr, _ = roc_curve(y_test, gb_probs)\n",
    "knn_fpr, knn_tpr, _ = roc_curve(y_test, knn_probs)\n",
    "voting_fpr, voting_tpr, _ = roc_curve(y_test, voting_probs)\n",
    "svm_fpr, svm_tpr, _ = roc_curve(y_test, svm_probs)"
   ]
  },
  {
   "cell_type": "code",
   "execution_count": 119,
   "metadata": {
    "id": "nWT52wb75fBb"
   },
   "outputs": [],
   "source": [
    "import matplotlib.pyplot as plt\n",
    "from matplotlib.pyplot import figure"
   ]
  },
  {
   "cell_type": "code",
   "execution_count": 120,
   "metadata": {
    "colab": {
     "base_uri": "https://localhost:8080/"
    },
    "id": "75JI__6a5jgc",
    "outputId": "55ef3053-118f-45b4-a9b6-ecae29c48ee8"
   },
   "outputs": [
    {
     "data": {
      "image/png": "[encoded data removed]",
      "text/plain": [
       "<Figure size 800x600 with 1 Axes>"
      ]
     },
     "metadata": {},
     "output_type": "display_data"
    }
   ],
   "source": [
    "figure(figsize=(8, 6), dpi=100)\n",
    "plt.plot(r_fpr, r_tpr, linestyle='--', label='Random prediction (AUROC = %0.3f)' % r_auc)\n",
    "plt.plot(lr_fpr, lr_tpr, marker='.', label='Logistic Regression (AUROC = %0.3f)' % lr_auc)\n",
    "plt.plot(rf_fpr, rf_tpr, marker='.', label='Random Forest (AUROC = %0.3f)' % rf_auc)\n",
    "plt.plot(xgb_fpr, xgb_tpr, marker='.', label='Extreme Gradient Boosting (AUROC = %0.3f)' % xgb_auc)\n",
    "plt.plot(adaboost_fpr, adaboost_tpr, marker='.', label='Ada Boost (AUROC = %0.3f)' % adaboost_auc)\n",
    "plt.plot(sgd_fpr, sgd_tpr, marker='.', label='Stochastic gradient descent (AUROC = %0.3f)' % sgd_auc)\n",
    "plt.plot(nn_fpr, nn_tpr, marker='.', label='Neural network models (AUROC = %0.3f)' % nn_auc)\n",
    "plt.plot(dt_fpr, dt_tpr, marker='.', label='Decision Tree (AUROC = %0.3f)' % dt_auc)\n",
    "plt.plot(gnb_fpr, gnb_tpr, marker='.', label='Gaussian Naive Bayes (AUROC = %0.3f)' % gnb_auc)\n",
    "plt.plot(gb_fpr, gb_tpr, marker='.', label='Gradient Boosting (AUROC = %0.3f)' % gb_auc)\n",
    "plt.plot(knn_fpr, knn_tpr, marker='.', label='K-Nearest Neighbors (AUROC = %0.3f)' % knn_auc)\n",
    "plt.plot(voting_fpr, voting_tpr, marker='.', label='Voting Classifier (AUROC = %0.3f)' % voting_auc)\n",
    "plt.plot(svm_fpr, svm_tpr, marker='.', label='Support vector machine (AUROC = %0.3f)' % svm_auc)\n",
    "\n",
    "\n",
    "# Title\n",
    "plt.title('ROC Plot')\n",
    "# Axis labels\n",
    "plt.xlabel('False Positive Rate')\n",
    "plt.ylabel('True Positive Rate')\n",
    "# Show legend\n",
    "plt.legend(bbox_to_anchor=(1,1), loc=\"upper left\") # \n",
    "# Show plot\n",
    "plt.show()"
   ]
  },
  {
   "cell_type": "markdown",
   "metadata": {
    "id": "lLyVcbGTvFXW"
   },
   "source": [
    "###Precision Recall f1 score"
   ]
  },
  {
   "cell_type": "code",
   "execution_count": 121,
   "metadata": {
    "id": "kxxRZ7HQvJvZ"
   },
   "outputs": [],
   "source": [
    "# importing package\n",
    "import matplotlib.pyplot as plt\n",
    "import numpy as np"
   ]
  },
  {
   "cell_type": "code",
   "execution_count": 122,
   "metadata": {
    "id": "6tchaJhJvZED"
   },
   "outputs": [],
   "source": [
    "x = np.arange(len(names))\n",
    "width = 0.35"
   ]
  },
  {
   "cell_type": "code",
   "execution_count": 123,
   "metadata": {
    "colab": {
     "base_uri": "https://localhost:8080/",
     "height": 460
    },
    "id": "RG5mh11RvblY",
    "outputId": "0f14050c-aa28-40b3-c04f-aed44d96aa97"
   },
   "outputs": [
    {
     "data": {
      "image/png": "[encoded data removed]",
      "text/plain": [
       "<Figure size 640x400 with 1 Axes>"
      ]
     },
     "metadata": {},
     "output_type": "display_data"
    }
   ],
   "source": [
    "plt.figure(figsize=(8,5), dpi=80)\n",
    "plt.bar(x-0.2, preci, width, color='forestgreen')\n",
    "plt.bar(x, recall, width, color='darkorange')\n",
    "plt.bar(x+0.2, f1, width, color='slateblue')\n",
    "plt.xticks(x, names, rotation=90)\n",
    "plt.xlabel(\"Classifiers\")\n",
    "plt.ylabel(\"Scores\")\n",
    "plt.legend([\"Precision\", \"Recall\", \"f1-score\"], bbox_to_anchor=(1,1), loc=\"upper left\")\n",
    "plt.show()"
   ]
  },
  {
   "cell_type": "code",
   "execution_count": 124,
   "metadata": {
    "id": "yEiC2b_pve5Z"
   },
   "outputs": [],
   "source": [
    "import pandas as pd\n",
    "from zipfile import ZipFile as zip\n",
    "res_df = pd.DataFrame(np.column_stack([names, scores, preci, recall, f1]), columns =['Classifier', 'Accuracy Score', 'Precision', 'Recall', 'F1-score'])"
   ]
  },
  {
   "cell_type": "code",
   "execution_count": 125,
   "metadata": {
    "colab": {
     "base_uri": "https://localhost:8080/",
     "height": 426
    },
    "id": "wb7MKQH8vk1p",
    "outputId": "670f5ec5-3db0-489e-fb63-8c6275c1331a"
   },
   "outputs": [
    {
     "data": {
      "text/html": [
       "<div>\n",
       "<style scoped>\n",
       "    .dataframe tbody tr th:only-of-type {\n",
       "        vertical-align: middle;\n",
       "    }\n",
       "\n",
       "    .dataframe tbody tr th {\n",
       "        vertical-align: top;\n",
       "    }\n",
       "\n",
       "    .dataframe thead th {\n",
       "        text-align: right;\n",
       "    }\n",
       "</style>\n",
       "<table border=\"1\" class=\"dataframe\">\n",
       "  <thead>\n",
       "    <tr style=\"text-align: right;\">\n",
       "      <th></th>\n",
       "      <th>Classifier</th>\n",
       "      <th>Accuracy Score</th>\n",
       "      <th>Precision</th>\n",
       "      <th>Recall</th>\n",
       "      <th>F1-score</th>\n",
       "    </tr>\n",
       "  </thead>\n",
       "  <tbody>\n",
       "    <tr>\n",
       "      <th>0</th>\n",
       "      <td>LR</td>\n",
       "      <td>99.91</td>\n",
       "      <td>92.27</td>\n",
       "      <td>78.05</td>\n",
       "      <td>83.72</td>\n",
       "    </tr>\n",
       "    <tr>\n",
       "      <th>1</th>\n",
       "      <td>RF</td>\n",
       "      <td>99.95</td>\n",
       "      <td>97.31</td>\n",
       "      <td>86.22</td>\n",
       "      <td>91.03</td>\n",
       "    </tr>\n",
       "    <tr>\n",
       "      <th>2</th>\n",
       "      <td>XGBoost</td>\n",
       "      <td>99.95</td>\n",
       "      <td>97.41</td>\n",
       "      <td>87.75</td>\n",
       "      <td>92.03</td>\n",
       "    </tr>\n",
       "    <tr>\n",
       "      <th>3</th>\n",
       "      <td>Ada Boost</td>\n",
       "      <td>99.94</td>\n",
       "      <td>92.59</td>\n",
       "      <td>88.25</td>\n",
       "      <td>90.31</td>\n",
       "    </tr>\n",
       "    <tr>\n",
       "      <th>4</th>\n",
       "      <td>SGD</td>\n",
       "      <td>99.9</td>\n",
       "      <td>91.48</td>\n",
       "      <td>74.99</td>\n",
       "      <td>81.18</td>\n",
       "    </tr>\n",
       "    <tr>\n",
       "      <th>5</th>\n",
       "      <td>NN(Supervised)</td>\n",
       "      <td>99.93</td>\n",
       "      <td>91.36</td>\n",
       "      <td>86.72</td>\n",
       "      <td>88.9</td>\n",
       "    </tr>\n",
       "    <tr>\n",
       "      <th>6</th>\n",
       "      <td>DT</td>\n",
       "      <td>99.92</td>\n",
       "      <td>90.21</td>\n",
       "      <td>85.7</td>\n",
       "      <td>87.82</td>\n",
       "    </tr>\n",
       "    <tr>\n",
       "      <th>7</th>\n",
       "      <td>GNB</td>\n",
       "      <td>99.33</td>\n",
       "      <td>57.34</td>\n",
       "      <td>79.8</td>\n",
       "      <td>61.68</td>\n",
       "    </tr>\n",
       "    <tr>\n",
       "      <th>8</th>\n",
       "      <td>GB</td>\n",
       "      <td>99.91</td>\n",
       "      <td>87.19</td>\n",
       "      <td>84.16</td>\n",
       "      <td>85.61</td>\n",
       "    </tr>\n",
       "    <tr>\n",
       "      <th>9</th>\n",
       "      <td>KNN</td>\n",
       "      <td>99.94</td>\n",
       "      <td>96.03</td>\n",
       "      <td>85.71</td>\n",
       "      <td>90.21</td>\n",
       "    </tr>\n",
       "    <tr>\n",
       "      <th>10</th>\n",
       "      <td>VC</td>\n",
       "      <td>99.95</td>\n",
       "      <td>98.59</td>\n",
       "      <td>85.71</td>\n",
       "      <td>91.16</td>\n",
       "    </tr>\n",
       "    <tr>\n",
       "      <th>11</th>\n",
       "      <td>SVM</td>\n",
       "      <td>99.85</td>\n",
       "      <td>83.66</td>\n",
       "      <td>64.78</td>\n",
       "      <td>70.53</td>\n",
       "    </tr>\n",
       "  </tbody>\n",
       "</table>\n",
       "</div>"
      ],
      "text/plain": [
       "        Classifier Accuracy Score Precision Recall F1-score\n",
       "0               LR          99.91     92.27  78.05    83.72\n",
       "1               RF          99.95     97.31  86.22    91.03\n",
       "2          XGBoost          99.95     97.41  87.75    92.03\n",
       "3        Ada Boost          99.94     92.59  88.25    90.31\n",
       "4              SGD           99.9     91.48  74.99    81.18\n",
       "5   NN(Supervised)          99.93     91.36  86.72     88.9\n",
       "6               DT          99.92     90.21   85.7    87.82\n",
       "7              GNB          99.33     57.34   79.8    61.68\n",
       "8               GB          99.91     87.19  84.16    85.61\n",
       "9              KNN          99.94     96.03  85.71    90.21\n",
       "10              VC          99.95     98.59  85.71    91.16\n",
       "11             SVM          99.85     83.66  64.78    70.53"
      ]
     },
     "execution_count": 125,
     "metadata": {},
     "output_type": "execute_result"
    }
   ],
   "source": [
    "res_df"
   ]
  }
 ],
 "metadata": {
  "colab": {
   "collapsed_sections": [
    "r0elJ5uWXdPv",
    "1d4tFWVJ5mHI",
    "uUe8LS37Moda",
    "emmumE-0R8Bz",
    "wE7N0ioETmTP",
    "_My0rWPgUcC-",
    "tgUxsgxDVjNk",
    "CIzFU2f5fcnn",
    "dySNS03fDS6E",
    "l3O9FZFkhQYK",
    "_VMC5vrAwP40",
    "lLyVcbGTvFXW"
   ],
   "name": "Credit_Card_Fraud_Detection(Actual Dataset).ipynb",
   "provenance": []
  },
  "kernelspec": {
   "display_name": "Python 3 (ipykernel)",
   "language": "python",
   "name": "python3"
  },
  "language_info": {
   "codemirror_mode": {
    "name": "ipython",
    "version": 3
   },
   "file_extension": ".py",
   "mimetype": "text/x-python",
   "name": "python",
   "nbconvert_exporter": "python",
   "pygments_lexer": "ipython3",
   "version": "3.8.12"
  }
 },
 "nbformat": 4,
 "nbformat_minor": 1
}
