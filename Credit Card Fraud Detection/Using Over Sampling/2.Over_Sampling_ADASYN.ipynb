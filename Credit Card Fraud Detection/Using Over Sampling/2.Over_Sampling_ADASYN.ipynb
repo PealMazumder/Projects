{
 "cells": [
  {
   "cell_type": "markdown",
   "metadata": {
    "id": "QonV53uSor-r"
   },
   "source": [
    "###Initial things"
   ]
  },
  {
   "cell_type": "code",
   "execution_count": 28,
   "metadata": {
    "id": "NbUlFc3v7T0u",
    "scrolled": true
   },
   "outputs": [],
   "source": [
    "#importing the dependencies\n",
    "import numpy as np\n",
    "import pandas as pd\n",
    "import seaborn as sns\n",
    "import matplotlib.pyplot as plt\n",
    "from sklearn.model_selection import train_test_split\n",
    "from sklearn.preprocessing import StandardScaler\n",
    "from sklearn.metrics import confusion_matrix, classification_report, accuracy_score\n",
    "from sklearn.linear_model import LogisticRegression\n",
    "from imblearn.under_sampling import RandomUnderSampler\n",
    "from sklearn import preprocessing\n",
    "from sklearn import svm\n",
    "from sklearn import ensemble\n",
    "from xgboost import XGBClassifier\n",
    "from sklearn.ensemble import RandomForestClassifier\n",
    "from sklearn.linear_model import SGDClassifier\n",
    "from sklearn.neural_network import MLPClassifier"
   ]
  },
  {
   "cell_type": "code",
   "execution_count": 29,
   "metadata": {
    "colab": {
     "base_uri": "https://localhost:8080/"
    },
    "id": "03luwKGy7XK7",
    "outputId": "3165ba9e-fa3d-4aef-8660-704949dabad4"
   },
   "outputs": [
    {
     "data": {
      "text/html": [
       "<div>\n",
       "<style scoped>\n",
       "    .dataframe tbody tr th:only-of-type {\n",
       "        vertical-align: middle;\n",
       "    }\n",
       "\n",
       "    .dataframe tbody tr th {\n",
       "        vertical-align: top;\n",
       "    }\n",
       "\n",
       "    .dataframe thead th {\n",
       "        text-align: right;\n",
       "    }\n",
       "</style>\n",
       "<table border=\"1\" class=\"dataframe\">\n",
       "  <thead>\n",
       "    <tr style=\"text-align: right;\">\n",
       "      <th></th>\n",
       "      <th>Time</th>\n",
       "      <th>V1</th>\n",
       "      <th>V2</th>\n",
       "      <th>V3</th>\n",
       "      <th>V4</th>\n",
       "      <th>V5</th>\n",
       "      <th>V6</th>\n",
       "      <th>V7</th>\n",
       "      <th>V8</th>\n",
       "      <th>V9</th>\n",
       "      <th>...</th>\n",
       "      <th>V21</th>\n",
       "      <th>V22</th>\n",
       "      <th>V23</th>\n",
       "      <th>V24</th>\n",
       "      <th>V25</th>\n",
       "      <th>V26</th>\n",
       "      <th>V27</th>\n",
       "      <th>V28</th>\n",
       "      <th>Amount</th>\n",
       "      <th>Class</th>\n",
       "    </tr>\n",
       "  </thead>\n",
       "  <tbody>\n",
       "    <tr>\n",
       "      <th>0</th>\n",
       "      <td>0.0</td>\n",
       "      <td>-1.359807</td>\n",
       "      <td>-0.072781</td>\n",
       "      <td>2.536347</td>\n",
       "      <td>1.378155</td>\n",
       "      <td>-0.338321</td>\n",
       "      <td>0.462388</td>\n",
       "      <td>0.239599</td>\n",
       "      <td>0.098698</td>\n",
       "      <td>0.363787</td>\n",
       "      <td>...</td>\n",
       "      <td>-0.018307</td>\n",
       "      <td>0.277838</td>\n",
       "      <td>-0.110474</td>\n",
       "      <td>0.066928</td>\n",
       "      <td>0.128539</td>\n",
       "      <td>-0.189115</td>\n",
       "      <td>0.133558</td>\n",
       "      <td>-0.021053</td>\n",
       "      <td>149.62</td>\n",
       "      <td>0</td>\n",
       "    </tr>\n",
       "    <tr>\n",
       "      <th>1</th>\n",
       "      <td>0.0</td>\n",
       "      <td>1.191857</td>\n",
       "      <td>0.266151</td>\n",
       "      <td>0.166480</td>\n",
       "      <td>0.448154</td>\n",
       "      <td>0.060018</td>\n",
       "      <td>-0.082361</td>\n",
       "      <td>-0.078803</td>\n",
       "      <td>0.085102</td>\n",
       "      <td>-0.255425</td>\n",
       "      <td>...</td>\n",
       "      <td>-0.225775</td>\n",
       "      <td>-0.638672</td>\n",
       "      <td>0.101288</td>\n",
       "      <td>-0.339846</td>\n",
       "      <td>0.167170</td>\n",
       "      <td>0.125895</td>\n",
       "      <td>-0.008983</td>\n",
       "      <td>0.014724</td>\n",
       "      <td>2.69</td>\n",
       "      <td>0</td>\n",
       "    </tr>\n",
       "    <tr>\n",
       "      <th>2</th>\n",
       "      <td>1.0</td>\n",
       "      <td>-1.358354</td>\n",
       "      <td>-1.340163</td>\n",
       "      <td>1.773209</td>\n",
       "      <td>0.379780</td>\n",
       "      <td>-0.503198</td>\n",
       "      <td>1.800499</td>\n",
       "      <td>0.791461</td>\n",
       "      <td>0.247676</td>\n",
       "      <td>-1.514654</td>\n",
       "      <td>...</td>\n",
       "      <td>0.247998</td>\n",
       "      <td>0.771679</td>\n",
       "      <td>0.909412</td>\n",
       "      <td>-0.689281</td>\n",
       "      <td>-0.327642</td>\n",
       "      <td>-0.139097</td>\n",
       "      <td>-0.055353</td>\n",
       "      <td>-0.059752</td>\n",
       "      <td>378.66</td>\n",
       "      <td>0</td>\n",
       "    </tr>\n",
       "    <tr>\n",
       "      <th>3</th>\n",
       "      <td>1.0</td>\n",
       "      <td>-0.966272</td>\n",
       "      <td>-0.185226</td>\n",
       "      <td>1.792993</td>\n",
       "      <td>-0.863291</td>\n",
       "      <td>-0.010309</td>\n",
       "      <td>1.247203</td>\n",
       "      <td>0.237609</td>\n",
       "      <td>0.377436</td>\n",
       "      <td>-1.387024</td>\n",
       "      <td>...</td>\n",
       "      <td>-0.108300</td>\n",
       "      <td>0.005274</td>\n",
       "      <td>-0.190321</td>\n",
       "      <td>-1.175575</td>\n",
       "      <td>0.647376</td>\n",
       "      <td>-0.221929</td>\n",
       "      <td>0.062723</td>\n",
       "      <td>0.061458</td>\n",
       "      <td>123.50</td>\n",
       "      <td>0</td>\n",
       "    </tr>\n",
       "    <tr>\n",
       "      <th>4</th>\n",
       "      <td>2.0</td>\n",
       "      <td>-1.158233</td>\n",
       "      <td>0.877737</td>\n",
       "      <td>1.548718</td>\n",
       "      <td>0.403034</td>\n",
       "      <td>-0.407193</td>\n",
       "      <td>0.095921</td>\n",
       "      <td>0.592941</td>\n",
       "      <td>-0.270533</td>\n",
       "      <td>0.817739</td>\n",
       "      <td>...</td>\n",
       "      <td>-0.009431</td>\n",
       "      <td>0.798278</td>\n",
       "      <td>-0.137458</td>\n",
       "      <td>0.141267</td>\n",
       "      <td>-0.206010</td>\n",
       "      <td>0.502292</td>\n",
       "      <td>0.219422</td>\n",
       "      <td>0.215153</td>\n",
       "      <td>69.99</td>\n",
       "      <td>0</td>\n",
       "    </tr>\n",
       "  </tbody>\n",
       "</table>\n",
       "<p>5 rows × 31 columns</p>\n",
       "</div>"
      ],
      "text/plain": [
       "   Time        V1        V2        V3        V4        V5        V6        V7  \\\n",
       "0   0.0 -1.359807 -0.072781  2.536347  1.378155 -0.338321  0.462388  0.239599   \n",
       "1   0.0  1.191857  0.266151  0.166480  0.448154  0.060018 -0.082361 -0.078803   \n",
       "2   1.0 -1.358354 -1.340163  1.773209  0.379780 -0.503198  1.800499  0.791461   \n",
       "3   1.0 -0.966272 -0.185226  1.792993 -0.863291 -0.010309  1.247203  0.237609   \n",
       "4   2.0 -1.158233  0.877737  1.548718  0.403034 -0.407193  0.095921  0.592941   \n",
       "\n",
       "         V8        V9  ...       V21       V22       V23       V24       V25  \\\n",
       "0  0.098698  0.363787  ... -0.018307  0.277838 -0.110474  0.066928  0.128539   \n",
       "1  0.085102 -0.255425  ... -0.225775 -0.638672  0.101288 -0.339846  0.167170   \n",
       "2  0.247676 -1.514654  ...  0.247998  0.771679  0.909412 -0.689281 -0.327642   \n",
       "3  0.377436 -1.387024  ... -0.108300  0.005274 -0.190321 -1.175575  0.647376   \n",
       "4 -0.270533  0.817739  ... -0.009431  0.798278 -0.137458  0.141267 -0.206010   \n",
       "\n",
       "        V26       V27       V28  Amount  Class  \n",
       "0 -0.189115  0.133558 -0.021053  149.62      0  \n",
       "1  0.125895 -0.008983  0.014724    2.69      0  \n",
       "2 -0.139097 -0.055353 -0.059752  378.66      0  \n",
       "3 -0.221929  0.062723  0.061458  123.50      0  \n",
       "4  0.502292  0.219422  0.215153   69.99      0  \n",
       "\n",
       "[5 rows x 31 columns]"
      ]
     },
     "execution_count": 29,
     "metadata": {},
     "output_type": "execute_result"
    }
   ],
   "source": [
    "dataset = pd.read_csv(\"creditcard.csv\")\n",
    "dataset.head()"
   ]
  },
  {
   "cell_type": "code",
   "execution_count": 30,
   "metadata": {
    "colab": {
     "base_uri": "https://localhost:8080/"
    },
    "id": "8fAX4b1N7aNz",
    "outputId": "a1890e2e-deb5-4b02-823b-d5d236b8ef7c"
   },
   "outputs": [
    {
     "data": {
      "text/plain": [
       "<AxesSubplot:ylabel='Class'>"
      ]
     },
     "execution_count": 30,
     "metadata": {},
     "output_type": "execute_result"
    },
    {
     "data": {
      "image/png": "[encoded data removed]",
      "text/plain": [
       "<Figure size 432x288 with 1 Axes>"
      ]
     },
     "metadata": {},
     "output_type": "display_data"
    }
   ],
   "source": [
    "# showing that this dataset is totally unbalanced\n",
    "count_classes = pd.value_counts(dataset['Class'])\n",
    "count_classes.plot.pie(colors = ['black', 'white'])"
   ]
  },
  {
   "cell_type": "code",
   "execution_count": 31,
   "metadata": {
    "colab": {
     "base_uri": "https://localhost:8080/"
    },
    "id": "t6PCyDVa5xyn",
    "outputId": "ba0d0de6-670c-437e-9cac-f250b785ac50"
   },
   "outputs": [
    {
     "data": {
      "text/plain": [
       "Index(['Time', 'V1', 'V2', 'V3', 'V4', 'V5', 'V6', 'V7', 'V8', 'V9', 'V10',\n",
       "       'V11', 'V12', 'V13', 'V14', 'V15', 'V16', 'V17', 'V18', 'V19', 'V20',\n",
       "       'V21', 'V22', 'V23', 'V24', 'V25', 'V26', 'V27', 'V28', 'Amount',\n",
       "       'Class'],\n",
       "      dtype='object')"
      ]
     },
     "execution_count": 31,
     "metadata": {},
     "output_type": "execute_result"
    }
   ],
   "source": [
    "dataset.columns"
   ]
  },
  {
   "cell_type": "code",
   "execution_count": 32,
   "metadata": {
    "colab": {
     "base_uri": "https://localhost:8080/"
    },
    "id": "iqgg-hzW550s",
    "outputId": "3ea9922a-0dec-41f6-bb0f-977f5731cc54"
   },
   "outputs": [
    {
     "data": {
      "text/plain": [
       "0    284315\n",
       "1       492\n",
       "Name: Class, dtype: int64"
      ]
     },
     "execution_count": 32,
     "metadata": {},
     "output_type": "execute_result"
    }
   ],
   "source": [
    "dataset.Class.value_counts()"
   ]
  },
  {
   "cell_type": "code",
   "execution_count": 33,
   "metadata": {
    "colab": {
     "base_uri": "https://localhost:8080/"
    },
    "id": "EFnJoOWU6JG4",
    "outputId": "e6b4ec61-0f9c-4fa7-8167-40368bf6cb07"
   },
   "outputs": [
    {
     "data": {
      "image/png": "[encoded data removed]",
      "text/plain": [
       "<Figure size 720x720 with 36 Axes>"
      ]
     },
     "metadata": {
      "needs_background": "light"
     },
     "output_type": "display_data"
    }
   ],
   "source": [
    "dataset.hist(figsize=(10, 10));"
   ]
  },
  {
   "cell_type": "code",
   "execution_count": 34,
   "metadata": {
    "colab": {
     "base_uri": "https://localhost:8080/"
    },
    "id": "zzak922T6dWu",
    "outputId": "d5f664a7-e7ca-46fe-d3ba-7e9c27d2095a"
   },
   "outputs": [
    {
     "data": {
      "image/png": "[encoded data removed]",
      "text/plain": [
       "<Figure size 720x720 with 2 Axes>"
      ]
     },
     "metadata": {
      "needs_background": "light"
     },
     "output_type": "display_data"
    }
   ],
   "source": [
    "plt.figure(figsize=(10,10))\n",
    "sns.heatmap(data=dataset.corr(), cmap=\"seismic\")\n",
    "plt.show();"
   ]
  },
  {
   "cell_type": "code",
   "execution_count": 35,
   "metadata": {
    "colab": {
     "base_uri": "https://localhost:8080/"
    },
    "id": "gQtwh9J68mMM",
    "outputId": "a20a1a97-bd3f-4648-e3c3-732d4636a749"
   },
   "outputs": [
    {
     "name": "stdout",
     "output_type": "stream",
     "text": [
      "Fraud  (492, 31)\n"
     ]
    }
   ],
   "source": [
    "# separating the data for analysis\n",
    "legit = dataset[dataset.Class == 0]\n",
    "fraud = dataset[dataset.Class == 1]\n",
    "print(\"Fraud \", fraud.shape)"
   ]
  },
  {
   "cell_type": "code",
   "execution_count": 36,
   "metadata": {
    "id": "wIACWa-ems_z"
   },
   "outputs": [],
   "source": [
    "scores = []"
   ]
  },
  {
   "cell_type": "code",
   "execution_count": 37,
   "metadata": {
    "id": "_g8enwWnNmNi"
   },
   "outputs": [],
   "source": [
    "names = [\"LR\", \"RF\", \"XGBoost\", \"Ada Boost\", \"SGD\", \"NN(Supervised)\", \"DT\", \"GNB\", \"GB\", \"KNN\", \"VC\", \"SVM\"]"
   ]
  },
  {
   "cell_type": "code",
   "execution_count": 38,
   "metadata": {
    "id": "fQj_Pb2LoJvX"
   },
   "outputs": [],
   "source": [
    "preci = []\n",
    "recall = []\n",
    "f1 = []"
   ]
  },
  {
   "cell_type": "markdown",
   "metadata": {
    "id": "vbfz2riZxvqH"
   },
   "source": [
    "### **Logistic** **Regression**"
   ]
  },
  {
   "cell_type": "code",
   "execution_count": 39,
   "metadata": {
    "colab": {
     "base_uri": "https://localhost:8080/"
    },
    "id": "-a2g31v0yxtG",
    "outputId": "b049b74f-1fcf-466c-8f10-fa7feaf35972"
   },
   "outputs": [],
   "source": [
    "#!pip install imbalanced-learn\n",
    "import imblearn\n",
    "from imblearn.over_sampling import ADASYN"
   ]
  },
  {
   "cell_type": "code",
   "execution_count": 40,
   "metadata": {
    "id": "PX13kqn69bDS"
   },
   "outputs": [],
   "source": [
    "X = np.asarray(dataset.drop(columns='Class', axis = 1))\n",
    "y = np.asarray(dataset['Class'])\n",
    "\n",
    "X_train, X_test, y_train, y_test = train_test_split(X, y, test_size=0.20, stratify=y, random_state=30)"
   ]
  },
  {
   "cell_type": "code",
   "execution_count": 41,
   "metadata": {
    "id": "SCm1vTu-zB0Y"
   },
   "outputs": [],
   "source": [
    "ada = ADASYN(sampling_strategy=1.0, random_state=30)\n",
    "X_train, y_train = ada.fit_resample(X_train, y_train)"
   ]
  },
  {
   "cell_type": "code",
   "execution_count": 42,
   "metadata": {
    "colab": {
     "base_uri": "https://localhost:8080/"
    },
    "id": "uVhjYroO19ph",
    "outputId": "8a434791-6691-48b2-96d3-9fbaf0cbb046"
   },
   "outputs": [
    {
     "name": "stdout",
     "output_type": "stream",
     "text": [
      "over sampled dataset shape Counter({1: 227481, 0: 227451})\n"
     ]
    }
   ],
   "source": [
    "from collections import Counter\n",
    "print('over sampled dataset shape %s' % Counter(y_train))"
   ]
  },
  {
   "cell_type": "code",
   "execution_count": 43,
   "metadata": {
    "id": "3943UiJx-GMB"
   },
   "outputs": [],
   "source": [
    "scalar = StandardScaler()\n",
    "X_train = scalar.fit_transform(X_train)\n",
    "X_test = scalar.transform(X_test)"
   ]
  },
  {
   "cell_type": "code",
   "execution_count": 44,
   "metadata": {
    "id": "rIRASIwIJhpL"
   },
   "outputs": [],
   "source": [
    "#X_df = pd.DataFrame(y_train)\n",
    "#X_df"
   ]
  },
  {
   "cell_type": "code",
   "execution_count": 45,
   "metadata": {
    "colab": {
     "base_uri": "https://localhost:8080/"
    },
    "id": "kRYSwTsh-RSo",
    "outputId": "12e23b28-f07b-48e8-a278-91c4a5867b6f"
   },
   "outputs": [],
   "source": [
    "# import time\n",
    "\n",
    "# start_time = time.clock()\n",
    "lr_clf = LogisticRegression(max_iter=300000).fit(X_train, y_train)\n",
    "# print(time.clock() - start_time, \"seconds\")\n"
   ]
  },
  {
   "cell_type": "code",
   "execution_count": 46,
   "metadata": {
    "colab": {
     "base_uri": "https://localhost:8080/"
    },
    "id": "SYg-2K2H-tMR",
    "outputId": "8b0b246e-7975-4864-8560-c45836348c20"
   },
   "outputs": [
    {
     "name": "stdout",
     "output_type": "stream",
     "text": [
      "Accuracy on Testing data:  0.9920122186720972\n"
     ]
    }
   ],
   "source": [
    "# accuracy on testing data\n",
    "y_test_pred = lr_clf.predict(X_test)\n",
    "testing_data_accuracy = accuracy_score(y_test, y_test_pred)\n",
    "scores.append(testing_data_accuracy)\n",
    "print('Accuracy on Testing data: ', testing_data_accuracy)"
   ]
  },
  {
   "cell_type": "code",
   "execution_count": 47,
   "metadata": {
    "colab": {
     "base_uri": "https://localhost:8080/"
    },
    "id": "HU1WVRxb--fL",
    "outputId": "ce0d636c-6312-4ac5-f370-790d13e85110"
   },
   "outputs": [
    {
     "name": "stdout",
     "output_type": "stream",
     "text": [
      "[[56425   439]\n",
      " [   16    82]]\n"
     ]
    }
   ],
   "source": [
    "print(confusion_matrix(y_test, y_test_pred))"
   ]
  },
  {
   "cell_type": "code",
   "execution_count": 48,
   "metadata": {},
   "outputs": [],
   "source": [
    "#!pip install mlxtend"
   ]
  },
  {
   "cell_type": "code",
   "execution_count": 49,
   "metadata": {
    "id": "BTtkry7jso1X"
   },
   "outputs": [],
   "source": [
    "from mlxtend.plotting import plot_confusion_matrix\n",
    "import matplotlib.pyplot as plt\n"
   ]
  },
  {
   "cell_type": "code",
   "execution_count": 50,
   "metadata": {
    "colab": {
     "base_uri": "https://localhost:8080/"
    },
    "id": "YG8-hykhspsq",
    "outputId": "47e64aee-4979-4ea7-e05c-419a24c6dff8",
    "scrolled": true
   },
   "outputs": [
    {
     "data": {
      "image/png": "[encoded data removed]",
      "text/plain": [
       "<Figure size 432x288 with 2 Axes>"
      ]
     },
     "metadata": {
      "needs_background": "light"
     },
     "output_type": "display_data"
    }
   ],
   "source": [
    "lr_cmat = confusion_matrix(y_test, y_test_pred)\n",
    "plot_confusion_matrix(conf_mat=lr_cmat, cmap='Dark2_r', colorbar=True)\n",
    "plt.show()"
   ]
  },
  {
   "cell_type": "code",
   "execution_count": 51,
   "metadata": {
    "colab": {
     "base_uri": "https://localhost:8080/"
    },
    "id": "HZzCI51B_UHS",
    "outputId": "6844a684-3c6f-4b40-e024-1345dba2df8f"
   },
   "outputs": [
    {
     "name": "stdout",
     "output_type": "stream",
     "text": [
      "              precision    recall  f1-score   support\n",
      "\n",
      "           0       1.00      0.99      1.00     56864\n",
      "           1       0.16      0.84      0.26        98\n",
      "\n",
      "    accuracy                           0.99     56962\n",
      "   macro avg       0.58      0.91      0.63     56962\n",
      "weighted avg       1.00      0.99      0.99     56962\n",
      "\n"
     ]
    }
   ],
   "source": [
    "print(classification_report(y_test, y_test_pred))"
   ]
  },
  {
   "cell_type": "code",
   "execution_count": 52,
   "metadata": {
    "id": "zGe4C2Jhsz0N"
   },
   "outputs": [],
   "source": [
    "from sklearn.metrics import precision_score\n",
    "from sklearn.metrics import recall_score\n",
    "from sklearn.metrics import f1_score\n",
    "preci.append(precision_score(y_test, y_test_pred, average='macro'))\n",
    "recall.append(recall_score(y_test, y_test_pred, average='macro'))\n",
    "f1.append(f1_score(y_test, y_test_pred, average='macro'))"
   ]
  },
  {
   "cell_type": "markdown",
   "metadata": {
    "id": "_BGBnHtuvcuc"
   },
   "source": [
    "###Random Forest"
   ]
  },
  {
   "cell_type": "code",
   "execution_count": 53,
   "metadata": {
    "id": "GZjcjAMcyKqg"
   },
   "outputs": [],
   "source": [
    "rf_clf = RandomForestClassifier(n_estimators=300)\n",
    "rf_clf.fit(X_train, y_train)\n",
    "\n",
    "y_test_pred = np.array(rf_clf.predict(X_test))"
   ]
  },
  {
   "cell_type": "code",
   "execution_count": 54,
   "metadata": {
    "colab": {
     "base_uri": "https://localhost:8080/"
    },
    "id": "fjirX-vey5C3",
    "outputId": "fd67da27-0225-4ad3-ba49-a996fb1610d2"
   },
   "outputs": [
    {
     "name": "stdout",
     "output_type": "stream",
     "text": [
      "Accuracy on Testing data:  0.9993679997191109\n"
     ]
    }
   ],
   "source": [
    "testing_data_accuracy = accuracy_score(y_test, y_test_pred)\n",
    "scores.append(testing_data_accuracy)\n",
    "print('Accuracy on Testing data: ', testing_data_accuracy)"
   ]
  },
  {
   "cell_type": "code",
   "execution_count": 55,
   "metadata": {
    "colab": {
     "base_uri": "https://localhost:8080/"
    },
    "id": "If7f5HJsy7l7",
    "outputId": "3e15696e-c2c5-4f39-d198-eb408780b72b"
   },
   "outputs": [
    {
     "name": "stdout",
     "output_type": "stream",
     "text": [
      "[[56851    13]\n",
      " [   23    75]]\n"
     ]
    }
   ],
   "source": [
    "print(confusion_matrix(y_test, y_test_pred))"
   ]
  },
  {
   "cell_type": "code",
   "execution_count": 56,
   "metadata": {
    "colab": {
     "base_uri": "https://localhost:8080/"
    },
    "id": "HgLZLkLEs7FF",
    "outputId": "cb0cacb5-0fa1-4a10-9837-32ae631274ca"
   },
   "outputs": [
    {
     "data": {
      "image/png": "[encoded data removed]",
      "text/plain": [
       "<Figure size 432x288 with 2 Axes>"
      ]
     },
     "metadata": {
      "needs_background": "light"
     },
     "output_type": "display_data"
    }
   ],
   "source": [
    "rf_cmat = confusion_matrix(y_test, y_test_pred)\n",
    "plot_confusion_matrix(conf_mat=rf_cmat, cmap='Dark2_r', colorbar=True)\n",
    "plt.show()"
   ]
  },
  {
   "cell_type": "code",
   "execution_count": 57,
   "metadata": {
    "colab": {
     "base_uri": "https://localhost:8080/"
    },
    "id": "2Q5mFfsGy-hg",
    "outputId": "ec496456-e0a7-4c49-9f59-55bce7f5b15e"
   },
   "outputs": [
    {
     "name": "stdout",
     "output_type": "stream",
     "text": [
      "              precision    recall  f1-score   support\n",
      "\n",
      "           0       1.00      1.00      1.00     56864\n",
      "           1       0.85      0.77      0.81        98\n",
      "\n",
      "    accuracy                           1.00     56962\n",
      "   macro avg       0.93      0.88      0.90     56962\n",
      "weighted avg       1.00      1.00      1.00     56962\n",
      "\n"
     ]
    }
   ],
   "source": [
    "print(classification_report(y_test, y_test_pred))"
   ]
  },
  {
   "cell_type": "code",
   "execution_count": 58,
   "metadata": {
    "id": "VCoYRq5ss8Zk"
   },
   "outputs": [],
   "source": [
    "preci.append(precision_score(y_test, y_test_pred, average='macro'))\n",
    "recall.append(recall_score(y_test, y_test_pred, average='macro'))\n",
    "f1.append(f1_score(y_test, y_test_pred, average='macro'))"
   ]
  },
  {
   "cell_type": "markdown",
   "metadata": {
    "id": "1d4tFWVJ5mHI"
   },
   "source": [
    "###Extreme Gradient Boosting (XGBoost)"
   ]
  },
  {
   "cell_type": "code",
   "execution_count": 59,
   "metadata": {
    "id": "CNHJCgAK5aXI"
   },
   "outputs": [],
   "source": [
    "xgb_clf = XGBClassifier(n_estimators=300, use_label_encoder=False)\n",
    "xgb_clf.fit(X_train, y_train, eval_metric='aucpr')\n",
    "\n",
    "y_test_pred = xgb_clf.predict(X_test)"
   ]
  },
  {
   "cell_type": "code",
   "execution_count": 60,
   "metadata": {
    "colab": {
     "base_uri": "https://localhost:8080/"
    },
    "id": "YSy3Tuw85kx3",
    "outputId": "ddaf4170-c66d-4aec-b36c-96028562a7fc"
   },
   "outputs": [
    {
     "name": "stdout",
     "output_type": "stream",
     "text": [
      "Accuracy on Testing data:  0.999385555282469\n"
     ]
    }
   ],
   "source": [
    "testing_data_accuracy = accuracy_score(y_test, y_test_pred)\n",
    "scores.append(testing_data_accuracy)\n",
    "print('Accuracy on Testing data: ', testing_data_accuracy)"
   ]
  },
  {
   "cell_type": "code",
   "execution_count": 61,
   "metadata": {
    "colab": {
     "base_uri": "https://localhost:8080/"
    },
    "id": "pejTcOQrDF_2",
    "outputId": "4ec388f8-185e-423f-f4c4-d328e340d7b8"
   },
   "outputs": [
    {
     "name": "stdout",
     "output_type": "stream",
     "text": [
      "[[56850    14]\n",
      " [   21    77]]\n"
     ]
    }
   ],
   "source": [
    "print(confusion_matrix(y_test, y_test_pred))"
   ]
  },
  {
   "cell_type": "code",
   "execution_count": 62,
   "metadata": {
    "colab": {
     "base_uri": "https://localhost:8080/"
    },
    "id": "ZpIhe70EtDdT",
    "outputId": "fab280cf-8202-4ae9-a06d-1d973a818e47"
   },
   "outputs": [
    {
     "data": {
      "image/png": "[encoded data removed]",
      "text/plain": [
       "<Figure size 432x288 with 2 Axes>"
      ]
     },
     "metadata": {
      "needs_background": "light"
     },
     "output_type": "display_data"
    }
   ],
   "source": [
    "xgb_cmat = confusion_matrix(y_test, y_test_pred)\n",
    "plot_confusion_matrix(conf_mat=xgb_cmat, cmap='Dark2_r', colorbar=True)\n",
    "plt.show()"
   ]
  },
  {
   "cell_type": "code",
   "execution_count": 63,
   "metadata": {
    "colab": {
     "base_uri": "https://localhost:8080/"
    },
    "id": "W28HCN-eDK7i",
    "outputId": "51694134-43de-43de-a525-34a7ca5059c3"
   },
   "outputs": [
    {
     "name": "stdout",
     "output_type": "stream",
     "text": [
      "              precision    recall  f1-score   support\n",
      "\n",
      "           0       1.00      1.00      1.00     56864\n",
      "           1       0.85      0.79      0.81        98\n",
      "\n",
      "    accuracy                           1.00     56962\n",
      "   macro avg       0.92      0.89      0.91     56962\n",
      "weighted avg       1.00      1.00      1.00     56962\n",
      "\n"
     ]
    }
   ],
   "source": [
    "print(classification_report(y_test, y_test_pred))"
   ]
  },
  {
   "cell_type": "code",
   "execution_count": 64,
   "metadata": {
    "id": "7r0rh3nXtHwy"
   },
   "outputs": [],
   "source": [
    "preci.append(precision_score(y_test, y_test_pred, average='macro'))\n",
    "recall.append(recall_score(y_test, y_test_pred, average='macro'))\n",
    "f1.append(f1_score(y_test, y_test_pred, average='macro'))"
   ]
  },
  {
   "cell_type": "markdown",
   "metadata": {
    "id": "uUe8LS37Moda"
   },
   "source": [
    "###Ada Boost"
   ]
  },
  {
   "cell_type": "code",
   "execution_count": 65,
   "metadata": {
    "colab": {
     "base_uri": "https://localhost:8080/"
    },
    "id": "uynBe1zmFxmd",
    "outputId": "a9c19e91-036d-41c0-a9e2-8feec6651d9f"
   },
   "outputs": [
    {
     "name": "stdout",
     "output_type": "stream",
     "text": [
      "over sampled dataset shape Counter({1: 227481, 0: 227451})\n"
     ]
    }
   ],
   "source": [
    "print('over sampled dataset shape %s' % Counter(y_train))"
   ]
  },
  {
   "cell_type": "code",
   "execution_count": 66,
   "metadata": {
    "id": "g9ld9iRpMzye"
   },
   "outputs": [],
   "source": [
    "from sklearn import ensemble\n",
    "# Creating classifier Object\n",
    "adaboost_clf = ensemble.AdaBoostClassifier(n_estimators=300).fit(X_train, y_train)"
   ]
  },
  {
   "cell_type": "code",
   "execution_count": 67,
   "metadata": {
    "colab": {
     "base_uri": "https://localhost:8080/"
    },
    "id": "9uRBK5EqM-ei",
    "outputId": "ee2d3e22-cd77-49e5-ea63-a453e9e4bc60"
   },
   "outputs": [
    {
     "name": "stdout",
     "output_type": "stream",
     "text": [
      "Accuracy on Testing data:  0.9963484428215301\n"
     ]
    }
   ],
   "source": [
    "y_test_pred = adaboost_clf.predict(X_test)\n",
    "\n",
    "testing_data_accuracy = accuracy_score(y_test, y_test_pred)\n",
    "scores.append(testing_data_accuracy)\n",
    "print('Accuracy on Testing data: ', testing_data_accuracy)"
   ]
  },
  {
   "cell_type": "code",
   "execution_count": 68,
   "metadata": {
    "colab": {
     "base_uri": "https://localhost:8080/"
    },
    "id": "KijFfA7-RNYL",
    "outputId": "bdfd0de8-200f-49ae-c943-c93f516d0769"
   },
   "outputs": [
    {
     "name": "stdout",
     "output_type": "stream",
     "text": [
      "[[56673   191]\n",
      " [   17    81]]\n"
     ]
    }
   ],
   "source": [
    "print(confusion_matrix(y_test, y_test_pred))"
   ]
  },
  {
   "cell_type": "code",
   "execution_count": 69,
   "metadata": {
    "colab": {
     "base_uri": "https://localhost:8080/"
    },
    "id": "Bta_1yF1tYaz",
    "outputId": "721d11a6-4d75-48b1-8b9f-f32d12067dda"
   },
   "outputs": [
    {
     "data": {
      "image/png": "[encoded data removed]",
      "text/plain": [
       "<Figure size 432x288 with 2 Axes>"
      ]
     },
     "metadata": {
      "needs_background": "light"
     },
     "output_type": "display_data"
    }
   ],
   "source": [
    "ab_cmat = confusion_matrix(y_test, y_test_pred)\n",
    "plot_confusion_matrix(conf_mat=ab_cmat, cmap='Dark2_r', colorbar=True)\n",
    "plt.show()"
   ]
  },
  {
   "cell_type": "code",
   "execution_count": 70,
   "metadata": {
    "colab": {
     "base_uri": "https://localhost:8080/"
    },
    "id": "nAPdENWnRroT",
    "outputId": "1b947452-8d24-46f5-f359-8bae9d32f69d"
   },
   "outputs": [
    {
     "name": "stdout",
     "output_type": "stream",
     "text": [
      "              precision    recall  f1-score   support\n",
      "\n",
      "           0       1.00      1.00      1.00     56864\n",
      "           1       0.30      0.83      0.44        98\n",
      "\n",
      "    accuracy                           1.00     56962\n",
      "   macro avg       0.65      0.91      0.72     56962\n",
      "weighted avg       1.00      1.00      1.00     56962\n",
      "\n"
     ]
    }
   ],
   "source": [
    "print(classification_report(y_test, y_test_pred))"
   ]
  },
  {
   "cell_type": "code",
   "execution_count": 71,
   "metadata": {
    "id": "a6YiXQYltaj5"
   },
   "outputs": [],
   "source": [
    "preci.append(precision_score(y_test, y_test_pred, average='macro'))\n",
    "recall.append(recall_score(y_test, y_test_pred, average='macro'))\n",
    "f1.append(f1_score(y_test, y_test_pred, average='macro'))"
   ]
  },
  {
   "cell_type": "markdown",
   "metadata": {
    "id": "emmumE-0R8Bz"
   },
   "source": [
    "###Stochastic gradient descent"
   ]
  },
  {
   "cell_type": "code",
   "execution_count": 72,
   "metadata": {
    "id": "ylougX9WSACZ"
   },
   "outputs": [],
   "source": [
    "from sklearn.linear_model import SGDClassifier"
   ]
  },
  {
   "cell_type": "code",
   "execution_count": 73,
   "metadata": {
    "id": "wPl8lGKeSDvw"
   },
   "outputs": [],
   "source": [
    "sgd_clf = SGDClassifier(loss=\"log\", penalty=\"l2\", max_iter=3000000).fit(X_train, y_train)"
   ]
  },
  {
   "cell_type": "code",
   "execution_count": 74,
   "metadata": {
    "id": "Kw3qyjmnSKHg"
   },
   "outputs": [],
   "source": [
    "y_test_pred = sgd_clf.predict(X_test)"
   ]
  },
  {
   "cell_type": "code",
   "execution_count": 75,
   "metadata": {
    "colab": {
     "base_uri": "https://localhost:8080/"
    },
    "id": "4G1df5sGSSx5",
    "outputId": "b70ac4ea-b071-4a8b-f008-149af28a1e15"
   },
   "outputs": [
    {
     "name": "stdout",
     "output_type": "stream",
     "text": [
      "Accuracy on Testing data:  0.9922228854323936\n"
     ]
    }
   ],
   "source": [
    "testing_data_accuracy = accuracy_score(y_test, y_test_pred)\n",
    "scores.append(testing_data_accuracy)\n",
    "print('Accuracy on Testing data: ', testing_data_accuracy)"
   ]
  },
  {
   "cell_type": "code",
   "execution_count": 76,
   "metadata": {
    "colab": {
     "base_uri": "https://localhost:8080/"
    },
    "id": "eRTIuH4pSZso",
    "outputId": "bddbfc22-9182-4c00-f83b-d8cd30c77cc2"
   },
   "outputs": [
    {
     "name": "stdout",
     "output_type": "stream",
     "text": [
      "[[56436   428]\n",
      " [   15    83]]\n"
     ]
    }
   ],
   "source": [
    "print(confusion_matrix(y_test, y_test_pred))"
   ]
  },
  {
   "cell_type": "code",
   "execution_count": 77,
   "metadata": {
    "colab": {
     "base_uri": "https://localhost:8080/",
     "height": 279
    },
    "id": "3DsLdq77thyv",
    "outputId": "49ef50cb-1961-4a75-92d6-54d48ff32d1a"
   },
   "outputs": [
    {
     "data": {
      "image/png": "[encoded data removed]",
      "text/plain": [
       "<Figure size 432x288 with 2 Axes>"
      ]
     },
     "metadata": {
      "needs_background": "light"
     },
     "output_type": "display_data"
    }
   ],
   "source": [
    "sgd_cmat = confusion_matrix(y_test, y_test_pred)\n",
    "plot_confusion_matrix(conf_mat=sgd_cmat, cmap='Dark2_r', colorbar=True)\n",
    "plt.show()"
   ]
  },
  {
   "cell_type": "code",
   "execution_count": 78,
   "metadata": {
    "colab": {
     "base_uri": "https://localhost:8080/"
    },
    "id": "xmycGkXuSc64",
    "outputId": "93982107-6c08-41cf-9869-1f64f02fd3e9"
   },
   "outputs": [
    {
     "name": "stdout",
     "output_type": "stream",
     "text": [
      "              precision    recall  f1-score   support\n",
      "\n",
      "           0       1.00      0.99      1.00     56864\n",
      "           1       0.16      0.85      0.27        98\n",
      "\n",
      "    accuracy                           0.99     56962\n",
      "   macro avg       0.58      0.92      0.63     56962\n",
      "weighted avg       1.00      0.99      0.99     56962\n",
      "\n"
     ]
    }
   ],
   "source": [
    "print(classification_report(y_test, y_test_pred))"
   ]
  },
  {
   "cell_type": "code",
   "execution_count": 79,
   "metadata": {
    "id": "e-e8abBrtjFT"
   },
   "outputs": [],
   "source": [
    "preci.append(precision_score(y_test, y_test_pred, average='macro'))\n",
    "recall.append(recall_score(y_test, y_test_pred, average='macro'))\n",
    "f1.append(f1_score(y_test, y_test_pred, average='macro'))"
   ]
  },
  {
   "cell_type": "markdown",
   "metadata": {
    "id": "DK5U8Y7bSnSD"
   },
   "source": [
    "###Neural network models (supervised)"
   ]
  },
  {
   "cell_type": "code",
   "execution_count": 80,
   "metadata": {
    "id": "Xr-5AyrBSqCc"
   },
   "outputs": [],
   "source": [
    "from sklearn.neural_network import MLPClassifier"
   ]
  },
  {
   "cell_type": "code",
   "execution_count": 81,
   "metadata": {
    "colab": {
     "base_uri": "https://localhost:8080/"
    },
    "id": "sExtqBfqF6RT",
    "outputId": "4991ba60-98d3-4533-b22f-29e40c5f0be0"
   },
   "outputs": [
    {
     "name": "stdout",
     "output_type": "stream",
     "text": [
      "over sampled dataset shape Counter({1: 227481, 0: 227451})\n"
     ]
    }
   ],
   "source": [
    "print('over sampled dataset shape %s' % Counter(y_train))"
   ]
  },
  {
   "cell_type": "code",
   "execution_count": 82,
   "metadata": {
    "id": "qy2jKnSFL0TG"
   },
   "outputs": [],
   "source": [
    "# data normalization with sklearn\n",
    "from sklearn.preprocessing import MinMaxScaler\n",
    "\n",
    "# fit scaler on training data\n",
    "norm = MinMaxScaler().fit(X_train)\n",
    "\n",
    "# transform training data\n",
    "X_train_norm = norm.transform(X_train)\n",
    "\n",
    "# transform testing dataabs\n",
    "X_test_norm= norm.transform(X_test)"
   ]
  },
  {
   "cell_type": "code",
   "execution_count": 83,
   "metadata": {
    "id": "1Zb1R6aPSu4j"
   },
   "outputs": [],
   "source": [
    "nn_clf = MLPClassifier(solver='lbfgs', alpha=1e-5, hidden_layer_sizes = (50,5), random_state = 1, max_iter=300000)\n",
    "nn_clf = nn_clf.fit(X_train_norm, y_train)"
   ]
  },
  {
   "cell_type": "code",
   "execution_count": 84,
   "metadata": {
    "id": "KJpXHrHuS6UW"
   },
   "outputs": [],
   "source": [
    "y_test_pred = nn_clf.predict(X_test_norm)"
   ]
  },
  {
   "cell_type": "code",
   "execution_count": 85,
   "metadata": {
    "colab": {
     "base_uri": "https://localhost:8080/"
    },
    "id": "Ed3nf0cmTIqc",
    "outputId": "97c42f4d-ab58-4188-aa9a-43b0158cec57"
   },
   "outputs": [
    {
     "name": "stdout",
     "output_type": "stream",
     "text": [
      "Accuracy on Testing data:  0.9945577753590112\n"
     ]
    }
   ],
   "source": [
    "testing_data_accuracy = accuracy_score(y_test, y_test_pred)\n",
    "scores.append(testing_data_accuracy)\n",
    "print('Accuracy on Testing data: ', testing_data_accuracy)"
   ]
  },
  {
   "cell_type": "code",
   "execution_count": 86,
   "metadata": {
    "colab": {
     "base_uri": "https://localhost:8080/"
    },
    "id": "wKZ-_-IRTQjF",
    "outputId": "5696414f-0fd7-4cf0-e8f2-721c940d8825"
   },
   "outputs": [
    {
     "name": "stdout",
     "output_type": "stream",
     "text": [
      "[[56573   291]\n",
      " [   19    79]]\n"
     ]
    }
   ],
   "source": [
    "print(confusion_matrix(y_test, y_test_pred))"
   ]
  },
  {
   "cell_type": "code",
   "execution_count": 87,
   "metadata": {
    "colab": {
     "base_uri": "https://localhost:8080/",
     "height": 279
    },
    "id": "wGBKDc_6t7U7",
    "outputId": "8a4afe07-ab4e-4de7-bcd1-3df8b015ef42"
   },
   "outputs": [
    {
     "data": {
      "image/png": "[encoded data removed]",
      "text/plain": [
       "<Figure size 432x288 with 2 Axes>"
      ]
     },
     "metadata": {
      "needs_background": "light"
     },
     "output_type": "display_data"
    }
   ],
   "source": [
    "nn_cmat = confusion_matrix(y_test, y_test_pred)\n",
    "plot_confusion_matrix(conf_mat=nn_cmat, cmap='Dark2_r', colorbar=True)\n",
    "plt.show()"
   ]
  },
  {
   "cell_type": "code",
   "execution_count": 88,
   "metadata": {
    "colab": {
     "base_uri": "https://localhost:8080/"
    },
    "id": "r_JpMR3xTTEN",
    "outputId": "16fce4e1-9c40-44f3-f93c-8ed5acbd6252"
   },
   "outputs": [
    {
     "name": "stdout",
     "output_type": "stream",
     "text": [
      "              precision    recall  f1-score   support\n",
      "\n",
      "           0       1.00      0.99      1.00     56864\n",
      "           1       0.21      0.81      0.34        98\n",
      "\n",
      "    accuracy                           0.99     56962\n",
      "   macro avg       0.61      0.90      0.67     56962\n",
      "weighted avg       1.00      0.99      1.00     56962\n",
      "\n"
     ]
    }
   ],
   "source": [
    "print(classification_report(y_test, y_test_pred))"
   ]
  },
  {
   "cell_type": "code",
   "execution_count": 89,
   "metadata": {
    "id": "IowEtOLXt81X"
   },
   "outputs": [],
   "source": [
    "preci.append(precision_score(y_test, y_test_pred, average='macro'))\n",
    "recall.append(recall_score(y_test, y_test_pred, average='macro'))\n",
    "f1.append(f1_score(y_test, y_test_pred, average='macro'))"
   ]
  },
  {
   "cell_type": "markdown",
   "metadata": {
    "id": "wE7N0ioETmTP"
   },
   "source": [
    "###Decision Trees"
   ]
  },
  {
   "cell_type": "code",
   "execution_count": 90,
   "metadata": {
    "id": "my5Bz-sSToKe"
   },
   "outputs": [],
   "source": [
    "from sklearn.tree import DecisionTreeClassifier"
   ]
  },
  {
   "cell_type": "code",
   "execution_count": 91,
   "metadata": {
    "id": "F4olJ751Tz-b"
   },
   "outputs": [],
   "source": [
    "dt_clf = DecisionTreeClassifier(max_depth = 3, min_samples_split= 3, min_samples_leaf = 1, random_state=30)\n",
    "dt_clf = dt_clf.fit(X_train, y_train)"
   ]
  },
  {
   "cell_type": "code",
   "execution_count": 92,
   "metadata": {
    "colab": {
     "base_uri": "https://localhost:8080/"
    },
    "id": "TyrF53tVT6za",
    "outputId": "5f5ccb89-0fd1-4f75-97b0-b7ffe382baf1"
   },
   "outputs": [
    {
     "name": "stdout",
     "output_type": "stream",
     "text": [
      "Accuracy on Testing data:  0.9936624416277519\n"
     ]
    }
   ],
   "source": [
    "y_test_pred = dt_clf.predict(X_test)\n",
    "\n",
    "testing_data_accuracy = accuracy_score(y_test, y_test_pred)\n",
    "scores.append(testing_data_accuracy)\n",
    "print('Accuracy on Testing data: ', testing_data_accuracy)"
   ]
  },
  {
   "cell_type": "code",
   "execution_count": 93,
   "metadata": {
    "colab": {
     "base_uri": "https://localhost:8080/"
    },
    "id": "cbe4xLT_FEYd",
    "outputId": "99df650b-9f0b-4d46-f76d-0452aee6191d"
   },
   "outputs": [
    {
     "name": "stdout",
     "output_type": "stream",
     "text": [
      "over sampled dataset shape Counter({1: 227481, 0: 227451})\n"
     ]
    }
   ],
   "source": [
    "print('over sampled dataset shape %s' % Counter(y_train))"
   ]
  },
  {
   "cell_type": "code",
   "execution_count": 94,
   "metadata": {
    "colab": {
     "base_uri": "https://localhost:8080/"
    },
    "id": "YBwQEPOOUBJW",
    "outputId": "f342dff4-4b63-48ba-887e-ac54a1d285a2"
   },
   "outputs": [
    {
     "name": "stdout",
     "output_type": "stream",
     "text": [
      "[[56520   344]\n",
      " [   17    81]]\n"
     ]
    }
   ],
   "source": [
    "print(confusion_matrix(y_test, y_test_pred))"
   ]
  },
  {
   "cell_type": "code",
   "execution_count": 95,
   "metadata": {
    "colab": {
     "base_uri": "https://localhost:8080/",
     "height": 279
    },
    "id": "MDgF7f7iuBbj",
    "outputId": "e3912bdd-0ba2-4ef4-8fde-b4823e9dc0ca"
   },
   "outputs": [
    {
     "data": {
      "image/png": "[encoded data removed]",
      "text/plain": [
       "<Figure size 432x288 with 2 Axes>"
      ]
     },
     "metadata": {
      "needs_background": "light"
     },
     "output_type": "display_data"
    }
   ],
   "source": [
    "dt_cmat = confusion_matrix(y_test, y_test_pred)\n",
    "plot_confusion_matrix(conf_mat=dt_cmat, cmap='Dark2_r', colorbar=True)\n",
    "plt.show()"
   ]
  },
  {
   "cell_type": "code",
   "execution_count": 96,
   "metadata": {
    "colab": {
     "base_uri": "https://localhost:8080/"
    },
    "id": "LmlA469vUHIl",
    "outputId": "a7c0b369-2d3a-48bd-a380-7e93750269f0"
   },
   "outputs": [
    {
     "name": "stdout",
     "output_type": "stream",
     "text": [
      "              precision    recall  f1-score   support\n",
      "\n",
      "           0       1.00      0.99      1.00     56864\n",
      "           1       0.19      0.83      0.31        98\n",
      "\n",
      "    accuracy                           0.99     56962\n",
      "   macro avg       0.60      0.91      0.65     56962\n",
      "weighted avg       1.00      0.99      1.00     56962\n",
      "\n"
     ]
    }
   ],
   "source": [
    "print(classification_report(y_test, y_test_pred))"
   ]
  },
  {
   "cell_type": "code",
   "execution_count": 97,
   "metadata": {
    "id": "3LtT93onuPGF"
   },
   "outputs": [],
   "source": [
    "preci.append(precision_score(y_test, y_test_pred, average='macro'))\n",
    "recall.append(recall_score(y_test, y_test_pred, average='macro'))\n",
    "f1.append(f1_score(y_test, y_test_pred, average='macro'))"
   ]
  },
  {
   "cell_type": "markdown",
   "metadata": {
    "id": "_My0rWPgUcC-"
   },
   "source": [
    "###Gaussian Naive Bayes"
   ]
  },
  {
   "cell_type": "code",
   "execution_count": 98,
   "metadata": {
    "id": "FoN_LTr1UdtV"
   },
   "outputs": [],
   "source": [
    "from sklearn.naive_bayes import GaussianNB"
   ]
  },
  {
   "cell_type": "code",
   "execution_count": 99,
   "metadata": {
    "id": "XLIV1YJtUy7S"
   },
   "outputs": [],
   "source": [
    "gnb_clf = GaussianNB().fit(X_train, y_train)"
   ]
  },
  {
   "cell_type": "code",
   "execution_count": 100,
   "metadata": {
    "colab": {
     "base_uri": "https://localhost:8080/"
    },
    "id": "67tBnMZmU8nR",
    "outputId": "995074a7-4321-4001-dbc0-325ccb74a8be"
   },
   "outputs": [
    {
     "name": "stdout",
     "output_type": "stream",
     "text": [
      "Accuracy on Testing data:  0.9766511007338226\n"
     ]
    }
   ],
   "source": [
    "y_test_pred = gnb_clf.predict(X_test)\n",
    "\n",
    "testing_data_accuracy = accuracy_score(y_test, y_test_pred)\n",
    "scores.append(testing_data_accuracy)\n",
    "print('Accuracy on Testing data: ', testing_data_accuracy)"
   ]
  },
  {
   "cell_type": "code",
   "execution_count": 101,
   "metadata": {
    "colab": {
     "base_uri": "https://localhost:8080/"
    },
    "id": "zYoMsxHDVDZl",
    "outputId": "c33a361b-8cd2-4fca-9d1f-22afc636da89"
   },
   "outputs": [
    {
     "name": "stdout",
     "output_type": "stream",
     "text": [
      "[[55552  1312]\n",
      " [   18    80]]\n"
     ]
    }
   ],
   "source": [
    "print(confusion_matrix(y_test, y_test_pred))"
   ]
  },
  {
   "cell_type": "code",
   "execution_count": 102,
   "metadata": {
    "colab": {
     "base_uri": "https://localhost:8080/",
     "height": 279
    },
    "id": "EZ8o2jlTuUH4",
    "outputId": "6aec75d2-9a3b-4bd8-b4f2-db7b218d620d"
   },
   "outputs": [
    {
     "data": {
      "image/png": "[encoded data removed]",
      "text/plain": [
       "<Figure size 432x288 with 2 Axes>"
      ]
     },
     "metadata": {
      "needs_background": "light"
     },
     "output_type": "display_data"
    }
   ],
   "source": [
    "gnb_cmat = confusion_matrix(y_test, y_test_pred)\n",
    "plot_confusion_matrix(conf_mat=gnb_cmat, cmap='Dark2_r', colorbar=True)\n",
    "plt.show()"
   ]
  },
  {
   "cell_type": "code",
   "execution_count": 103,
   "metadata": {
    "colab": {
     "base_uri": "https://localhost:8080/"
    },
    "id": "mdAU2OYFVWsn",
    "outputId": "ff2584db-959b-4bd4-9894-78e7696c1e94"
   },
   "outputs": [
    {
     "name": "stdout",
     "output_type": "stream",
     "text": [
      "              precision    recall  f1-score   support\n",
      "\n",
      "           0       1.00      0.98      0.99     56864\n",
      "           1       0.06      0.82      0.11        98\n",
      "\n",
      "    accuracy                           0.98     56962\n",
      "   macro avg       0.53      0.90      0.55     56962\n",
      "weighted avg       1.00      0.98      0.99     56962\n",
      "\n"
     ]
    }
   ],
   "source": [
    "print(classification_report(y_test, y_test_pred))"
   ]
  },
  {
   "cell_type": "code",
   "execution_count": 104,
   "metadata": {
    "id": "-d7niOokuXIn"
   },
   "outputs": [],
   "source": [
    "preci.append(precision_score(y_test, y_test_pred, average='macro'))\n",
    "recall.append(recall_score(y_test, y_test_pred, average='macro'))\n",
    "f1.append(f1_score(y_test, y_test_pred, average='macro'))"
   ]
  },
  {
   "cell_type": "markdown",
   "metadata": {
    "id": "tgUxsgxDVjNk"
   },
   "source": [
    "###Gradient Boosting"
   ]
  },
  {
   "cell_type": "code",
   "execution_count": 105,
   "metadata": {
    "id": "ivlvAD0uXCkO"
   },
   "outputs": [],
   "source": [
    "from sklearn.ensemble import GradientBoostingClassifier"
   ]
  },
  {
   "cell_type": "code",
   "execution_count": 106,
   "metadata": {
    "id": "mZyV_wZGWrVl"
   },
   "outputs": [],
   "source": [
    "gb_clf = GradientBoostingClassifier(n_estimators=300, learning_rate=1.0, max_depth=1, random_state=0)\n",
    "gb_clf = gb_clf.fit(X_train, y_train)"
   ]
  },
  {
   "cell_type": "code",
   "execution_count": 107,
   "metadata": {
    "colab": {
     "base_uri": "https://localhost:8080/"
    },
    "id": "4K5uIVHiXIyF",
    "outputId": "22ace779-1ca3-4c16-b574-a9ee81acd442"
   },
   "outputs": [
    {
     "name": "stdout",
     "output_type": "stream",
     "text": [
      "Accuracy on Testing data:  0.9956988869772831\n"
     ]
    }
   ],
   "source": [
    "y_test_pred = gb_clf.predict(X_test)\n",
    "\n",
    "testing_data_accuracy = accuracy_score(y_test, y_test_pred)\n",
    "scores.append(testing_data_accuracy)\n",
    "print('Accuracy on Testing data: ', testing_data_accuracy)"
   ]
  },
  {
   "cell_type": "code",
   "execution_count": 108,
   "metadata": {
    "colab": {
     "base_uri": "https://localhost:8080/"
    },
    "id": "3lvvb9D0XI9c",
    "outputId": "b653b50d-8791-4375-b861-13b6dbfee057"
   },
   "outputs": [
    {
     "name": "stdout",
     "output_type": "stream",
     "text": [
      "[[56637   227]\n",
      " [   18    80]]\n"
     ]
    }
   ],
   "source": [
    "print(confusion_matrix(y_test, y_test_pred))"
   ]
  },
  {
   "cell_type": "code",
   "execution_count": 109,
   "metadata": {
    "colab": {
     "base_uri": "https://localhost:8080/",
     "height": 279
    },
    "id": "W8QirEJRuatR",
    "outputId": "db0aea27-cc98-4117-89ce-be11d9e5a563"
   },
   "outputs": [
    {
     "data": {
      "image/png": "[encoded data removed]",
      "text/plain": [
       "<Figure size 432x288 with 2 Axes>"
      ]
     },
     "metadata": {
      "needs_background": "light"
     },
     "output_type": "display_data"
    }
   ],
   "source": [
    "gb_cmat = confusion_matrix(y_test, y_test_pred)\n",
    "plot_confusion_matrix(conf_mat=gb_cmat, cmap='Dark2_r', colorbar=True)\n",
    "plt.show()"
   ]
  },
  {
   "cell_type": "code",
   "execution_count": 110,
   "metadata": {
    "colab": {
     "base_uri": "https://localhost:8080/"
    },
    "id": "dZ0chlPIXZs4",
    "outputId": "9b61aaf7-482d-4cf3-ac03-f8a9d27b1821"
   },
   "outputs": [
    {
     "name": "stdout",
     "output_type": "stream",
     "text": [
      "              precision    recall  f1-score   support\n",
      "\n",
      "           0       1.00      1.00      1.00     56864\n",
      "           1       0.26      0.82      0.40        98\n",
      "\n",
      "    accuracy                           1.00     56962\n",
      "   macro avg       0.63      0.91      0.70     56962\n",
      "weighted avg       1.00      1.00      1.00     56962\n",
      "\n"
     ]
    }
   ],
   "source": [
    "print(classification_report(y_test, y_test_pred))"
   ]
  },
  {
   "cell_type": "code",
   "execution_count": 111,
   "metadata": {
    "id": "T6VKsW0-uf6_"
   },
   "outputs": [],
   "source": [
    "preci.append(precision_score(y_test, y_test_pred, average='macro'))\n",
    "recall.append(recall_score(y_test, y_test_pred, average='macro'))\n",
    "f1.append(f1_score(y_test, y_test_pred, average='macro'))"
   ]
  },
  {
   "cell_type": "markdown",
   "metadata": {
    "id": "8029zomIXrX6"
   },
   "source": [
    "### K-Nearest Neighbors(KNN)"
   ]
  },
  {
   "cell_type": "code",
   "execution_count": 112,
   "metadata": {
    "id": "AM1hJuYbXwau"
   },
   "outputs": [],
   "source": [
    "from sklearn.neighbors import KNeighborsClassifier"
   ]
  },
  {
   "cell_type": "code",
   "execution_count": 113,
   "metadata": {
    "colab": {
     "base_uri": "https://localhost:8080/"
    },
    "id": "vQMeJfObEWQ_",
    "outputId": "e79f631c-0be9-4484-dff3-aa163a164660"
   },
   "outputs": [
    {
     "name": "stdout",
     "output_type": "stream",
     "text": [
      "over sampled dataset shape Counter({1: 227481, 0: 227451})\n"
     ]
    }
   ],
   "source": [
    "print('over sampled dataset shape %s' % Counter(y_train))"
   ]
  },
  {
   "cell_type": "code",
   "execution_count": 114,
   "metadata": {
    "id": "kL2YvDt6Xzji"
   },
   "outputs": [],
   "source": [
    "knn_clf = KNeighborsClassifier(n_neighbors=5)\n",
    "knn_clf = knn_clf.fit(X_train_norm, y_train)"
   ]
  },
  {
   "cell_type": "code",
   "execution_count": 115,
   "metadata": {
    "colab": {
     "base_uri": "https://localhost:8080/"
    },
    "id": "oziJzUZAYD3o",
    "outputId": "b83fe911-9fad-4e0d-bb8a-9e2be28b91ed"
   },
   "outputs": [
    {
     "name": "stdout",
     "output_type": "stream",
     "text": [
      "Accuracy on Testing data:  0.9988062216916541\n"
     ]
    }
   ],
   "source": [
    "y_test_pred = knn_clf.predict(X_test_norm)\n",
    "\n",
    "testing_data_accuracy = accuracy_score(y_test, y_test_pred)\n",
    "scores.append(testing_data_accuracy)\n",
    "print('Accuracy on Testing data: ', testing_data_accuracy)"
   ]
  },
  {
   "cell_type": "code",
   "execution_count": 116,
   "metadata": {
    "colab": {
     "base_uri": "https://localhost:8080/"
    },
    "id": "s0GLmaI6YJ0V",
    "outputId": "0806f44b-af55-417e-9283-7c3972d9a8d8"
   },
   "outputs": [
    {
     "name": "stdout",
     "output_type": "stream",
     "text": [
      "[[56817    47]\n",
      " [   21    77]]\n"
     ]
    }
   ],
   "source": [
    "print(confusion_matrix(y_test, y_test_pred))"
   ]
  },
  {
   "cell_type": "code",
   "execution_count": 117,
   "metadata": {
    "colab": {
     "base_uri": "https://localhost:8080/",
     "height": 279
    },
    "id": "xnsL5S_GunBv",
    "outputId": "eefe09f7-8f2a-40ef-b49e-7cd589f57029"
   },
   "outputs": [
    {
     "data": {
      "image/png": "[encoded data removed]",
      "text/plain": [
       "<Figure size 432x288 with 2 Axes>"
      ]
     },
     "metadata": {
      "needs_background": "light"
     },
     "output_type": "display_data"
    }
   ],
   "source": [
    "knn_cmat = confusion_matrix(y_test, y_test_pred)\n",
    "plot_confusion_matrix(conf_mat=knn_cmat, cmap='Dark2_r', colorbar=True)\n",
    "plt.show()"
   ]
  },
  {
   "cell_type": "code",
   "execution_count": 118,
   "metadata": {
    "colab": {
     "base_uri": "https://localhost:8080/"
    },
    "id": "gqrPyFIJYdjd",
    "outputId": "a1e4bc9b-ac12-4b42-a5c5-ec3449e2ad2d"
   },
   "outputs": [
    {
     "name": "stdout",
     "output_type": "stream",
     "text": [
      "              precision    recall  f1-score   support\n",
      "\n",
      "           0       1.00      1.00      1.00     56864\n",
      "           1       0.62      0.79      0.69        98\n",
      "\n",
      "    accuracy                           1.00     56962\n",
      "   macro avg       0.81      0.89      0.85     56962\n",
      "weighted avg       1.00      1.00      1.00     56962\n",
      "\n"
     ]
    }
   ],
   "source": [
    "print(classification_report(y_test, y_test_pred))"
   ]
  },
  {
   "cell_type": "code",
   "execution_count": 119,
   "metadata": {
    "id": "6dXN53usuoKP"
   },
   "outputs": [],
   "source": [
    "preci.append(precision_score(y_test, y_test_pred, average='macro'))\n",
    "recall.append(recall_score(y_test, y_test_pred, average='macro'))\n",
    "f1.append(f1_score(y_test, y_test_pred, average='macro'))"
   ]
  },
  {
   "cell_type": "code",
   "execution_count": 120,
   "metadata": {
    "id": "WMgceK1FyuL9"
   },
   "outputs": [],
   "source": [
    "from sklearn.metrics import precision_recall_fscore_support"
   ]
  },
  {
   "cell_type": "markdown",
   "metadata": {
    "id": "CIzFU2f5fcnn"
   },
   "source": [
    "###Voting Classifier"
   ]
  },
  {
   "cell_type": "code",
   "execution_count": 121,
   "metadata": {
    "id": "FvgEIvYWyxBJ"
   },
   "outputs": [],
   "source": [
    "from sklearn.ensemble import VotingClassifier"
   ]
  },
  {
   "cell_type": "code",
   "execution_count": 122,
   "metadata": {
    "id": "_pTOgjlafZ_n"
   },
   "outputs": [],
   "source": [
    "labels = [\"Multi-layer Perceptron\", \"XGBoost\", \"Random Forest\"]"
   ]
  },
  {
   "cell_type": "code",
   "execution_count": 123,
   "metadata": {
    "id": "mswIrAkrnG2M"
   },
   "outputs": [],
   "source": [
    "from sklearn.ensemble import VotingClassifier"
   ]
  },
  {
   "cell_type": "code",
   "execution_count": 124,
   "metadata": {
    "colab": {
     "base_uri": "https://localhost:8080/"
    },
    "id": "VouQEYPql6zg",
    "outputId": "153f3361-c4e4-4d01-805c-2513791548f0"
   },
   "outputs": [
    {
     "name": "stdout",
     "output_type": "stream",
     "text": [
      "[13:25:01] WARNING: C:/Users/Administrator/workspace/xgboost-win64_release_1.5.1/src/learner.cc:1115: Starting in XGBoost 1.3.0, the default evaluation metric used with the objective 'binary:logistic' was changed from 'error' to 'logloss'. Explicitly set eval_metric if you'd like to restore the old behavior.\n"
     ]
    },
    {
     "data": {
      "text/plain": [
       "VotingClassifier(estimators=[('nn',\n",
       "                              MLPClassifier(alpha=1e-05,\n",
       "                                            hidden_layer_sizes=(50, 5),\n",
       "                                            max_iter=300000, random_state=1,\n",
       "                                            solver='lbfgs')),\n",
       "                             ('xgboost',\n",
       "                              XGBClassifier(base_score=0.5, booster='gbtree',\n",
       "                                            colsample_bylevel=1,\n",
       "                                            colsample_bynode=1,\n",
       "                                            colsample_bytree=1,\n",
       "                                            enable_categorical=False, gamma=0,\n",
       "                                            gpu_id=-1, importance_type=None,\n",
       "                                            interaction_constraints='',\n",
       "                                            learning_...\n",
       "                                            max_delta_step=0, max_depth=6,\n",
       "                                            min_child_weight=1, missing=nan,\n",
       "                                            monotone_constraints='()',\n",
       "                                            n_estimators=300, n_jobs=12,\n",
       "                                            num_parallel_tree=1,\n",
       "                                            predictor='auto', random_state=0,\n",
       "                                            reg_alpha=0, reg_lambda=1,\n",
       "                                            scale_pos_weight=1, subsample=1,\n",
       "                                            tree_method='exact',\n",
       "                                            use_label_encoder=False,\n",
       "                                            validate_parameters=1,\n",
       "                                            verbosity=None)),\n",
       "                             ('RF', RandomForestClassifier(n_estimators=300))],\n",
       "                 voting='soft')"
      ]
     },
     "execution_count": 124,
     "metadata": {},
     "output_type": "execute_result"
    }
   ],
   "source": [
    "voting_clf = VotingClassifier (estimators = [('nn', nn_clf),('xgboost', xgb_clf), ('RF', rf_clf) ],\n",
    "voting='soft')\n",
    "    \n",
    "voting_clf.fit(X_train,y_train)"
   ]
  },
  {
   "cell_type": "code",
   "execution_count": 125,
   "metadata": {
    "colab": {
     "base_uri": "https://localhost:8080/"
    },
    "id": "OardrFRwngmV",
    "outputId": "bd6b5cbe-709c-4b22-dfb4-ee62da3d3f15"
   },
   "outputs": [
    {
     "name": "stdout",
     "output_type": "stream",
     "text": [
      "Accuracy on Testing data:  0.9993328885923949\n"
     ]
    }
   ],
   "source": [
    "y_test_pred = voting_clf.predict(X_test)\n",
    "\n",
    "testing_data_accuracy = accuracy_score(y_test, y_test_pred)\n",
    "scores.append(testing_data_accuracy)\n",
    "print('Accuracy on Testing data: ', testing_data_accuracy)"
   ]
  },
  {
   "cell_type": "code",
   "execution_count": 126,
   "metadata": {
    "colab": {
     "base_uri": "https://localhost:8080/"
    },
    "id": "gpdtngVXqMGp",
    "outputId": "4d016bd3-fd9b-4cb8-e4fe-832b8986d97e"
   },
   "outputs": [
    {
     "name": "stdout",
     "output_type": "stream",
     "text": [
      "[[56848    16]\n",
      " [   22    76]]\n"
     ]
    }
   ],
   "source": [
    "print(confusion_matrix(y_test, y_test_pred))"
   ]
  },
  {
   "cell_type": "code",
   "execution_count": 127,
   "metadata": {
    "colab": {
     "base_uri": "https://localhost:8080/"
    },
    "id": "btrnbc1ruyJs",
    "outputId": "1ba268eb-83ad-44c1-9de4-e034d5877f5e"
   },
   "outputs": [
    {
     "data": {
      "image/png": "[encoded data removed]",
      "text/plain": [
       "<Figure size 432x288 with 2 Axes>"
      ]
     },
     "metadata": {
      "needs_background": "light"
     },
     "output_type": "display_data"
    }
   ],
   "source": [
    "voting_cmat = confusion_matrix(y_test, y_test_pred)\n",
    "plot_confusion_matrix(conf_mat=voting_cmat, cmap='Dark2_r', colorbar=True)\n",
    "plt.show()"
   ]
  },
  {
   "cell_type": "code",
   "execution_count": 128,
   "metadata": {
    "colab": {
     "base_uri": "https://localhost:8080/"
    },
    "id": "IDdQSl5vZv0K",
    "outputId": "26742eeb-b215-463a-cd6c-1515260b5776"
   },
   "outputs": [
    {
     "name": "stdout",
     "output_type": "stream",
     "text": [
      "              precision    recall  f1-score   support\n",
      "\n",
      "           0       1.00      1.00      1.00     56864\n",
      "           1       0.83      0.78      0.80        98\n",
      "\n",
      "    accuracy                           1.00     56962\n",
      "   macro avg       0.91      0.89      0.90     56962\n",
      "weighted avg       1.00      1.00      1.00     56962\n",
      "\n"
     ]
    }
   ],
   "source": [
    "print(classification_report(y_test, y_test_pred))"
   ]
  },
  {
   "cell_type": "code",
   "execution_count": 129,
   "metadata": {
    "id": "574f7W27sjeb"
   },
   "outputs": [],
   "source": [
    "preci.append(precision_score(y_test, y_test_pred, average='macro'))\n",
    "recall.append(recall_score(y_test, y_test_pred, average='macro'))\n",
    "f1.append(f1_score(y_test, y_test_pred, average='macro'))"
   ]
  },
  {
   "cell_type": "markdown",
   "metadata": {
    "id": "dySNS03fDS6E"
   },
   "source": [
    "###Support vector machine(SVM)"
   ]
  },
  {
   "cell_type": "code",
   "execution_count": 130,
   "metadata": {
    "id": "ykHUF_DDDhoR"
   },
   "outputs": [],
   "source": [
    "from sklearn.svm import LinearSVC"
   ]
  },
  {
   "cell_type": "code",
   "execution_count": 131,
   "metadata": {
    "colab": {
     "base_uri": "https://localhost:8080/"
    },
    "id": "nnIqioK7Ftyo",
    "outputId": "a3fb8f06-f5a0-4bad-939f-6026f28f67eb"
   },
   "outputs": [
    {
     "name": "stdout",
     "output_type": "stream",
     "text": [
      "over sampled dataset shape Counter({1: 227481, 0: 227451})\n"
     ]
    }
   ],
   "source": [
    "print('over sampled dataset shape %s' % Counter(y_train))"
   ]
  },
  {
   "cell_type": "code",
   "execution_count": 132,
   "metadata": {
    "id": "ZHe94uj44Eq-"
   },
   "outputs": [],
   "source": [
    "svm_clf = svm.SVC(kernel='linear', gamma = 'auto', C = 2, probability=True).fit(X_train, y_train)"
   ]
  },
  {
   "cell_type": "code",
   "execution_count": 133,
   "metadata": {
    "id": "xR_k_BcsD1sQ"
   },
   "outputs": [],
   "source": [
    "y_test_pred = svm_clf.predict(X_test)"
   ]
  },
  {
   "cell_type": "code",
   "execution_count": 134,
   "metadata": {
    "id": "iUxZjS06MXXO"
   },
   "outputs": [
    {
     "name": "stdout",
     "output_type": "stream",
     "text": [
      "Accuracy on Testing data:  0.9930655524735789\n"
     ]
    }
   ],
   "source": [
    "testing_data_accuracy = accuracy_score(y_test, y_test_pred)\n",
    "scores.append(testing_data_accuracy)\n",
    "print('Accuracy on Testing data: ', testing_data_accuracy)"
   ]
  },
  {
   "cell_type": "code",
   "execution_count": 135,
   "metadata": {
    "id": "BRSs-ZQ_KGE5"
   },
   "outputs": [
    {
     "name": "stdout",
     "output_type": "stream",
     "text": [
      "[[56485   379]\n",
      " [   16    82]]\n"
     ]
    }
   ],
   "source": [
    "print(confusion_matrix(y_test, y_test_pred))"
   ]
  },
  {
   "cell_type": "code",
   "execution_count": 136,
   "metadata": {
    "id": "EvP82qCQtPwQ"
   },
   "outputs": [
    {
     "data": {
      "image/png": "[encoded data removed]",
      "text/plain": [
       "<Figure size 432x288 with 2 Axes>"
      ]
     },
     "metadata": {
      "needs_background": "light"
     },
     "output_type": "display_data"
    }
   ],
   "source": [
    "rf_cmat = confusion_matrix(y_test, y_test_pred)\n",
    "plot_confusion_matrix(conf_mat=rf_cmat, cmap='Dark2_r', colorbar=True)\n",
    "plt.show()"
   ]
  },
  {
   "cell_type": "code",
   "execution_count": 137,
   "metadata": {
    "id": "bWzirlmNKUl6"
   },
   "outputs": [
    {
     "name": "stdout",
     "output_type": "stream",
     "text": [
      "              precision    recall  f1-score   support\n",
      "\n",
      "           0       1.00      0.99      1.00     56864\n",
      "           1       0.18      0.84      0.29        98\n",
      "\n",
      "    accuracy                           0.99     56962\n",
      "   macro avg       0.59      0.92      0.64     56962\n",
      "weighted avg       1.00      0.99      1.00     56962\n",
      "\n"
     ]
    }
   ],
   "source": [
    "print(classification_report(y_test, y_test_pred))"
   ]
  },
  {
   "cell_type": "code",
   "execution_count": 138,
   "metadata": {
    "id": "qK3cGtFjtRpm"
   },
   "outputs": [],
   "source": [
    "preci.append(precision_score(y_test, y_test_pred, average='macro'))\n",
    "recall.append(recall_score(y_test, y_test_pred, average='macro'))\n",
    "f1.append(f1_score(y_test, y_test_pred, average='macro'))"
   ]
  },
  {
   "cell_type": "markdown",
   "metadata": {
    "id": "l3O9FZFkhQYK"
   },
   "source": [
    "### Result"
   ]
  },
  {
   "cell_type": "code",
   "execution_count": 139,
   "metadata": {
    "id": "3RC8E0umu7Jz"
   },
   "outputs": [],
   "source": [
    "scores = [round(x*100, 2)  for x in scores]\n",
    "preci = [round(x*100, 2)  for x in preci]\n",
    "recall = [round(x*100, 2)  for x in recall]\n",
    "f1 = [round(x*100, 2)  for x in f1]"
   ]
  },
  {
   "cell_type": "code",
   "execution_count": 140,
   "metadata": {
    "colab": {
     "base_uri": "https://localhost:8080/"
    },
    "id": "fWS2zEpDl6PX",
    "outputId": "82462ce5-6910-44bd-dd77-63aacb9aa5ed"
   },
   "outputs": [
    {
     "data": {
      "text/html": [
       "<style type=\"text/css\">\n",
       "#T_8ebd8_row0_col1 {\n",
       "  background-color: #a54ea5;\n",
       "  color: #f1f1f1;\n",
       "}\n",
       "#T_8ebd8_row1_col1, #T_8ebd8_row2_col1 {\n",
       "  background-color: #800080;\n",
       "  color: #f1f1f1;\n",
       "}\n",
       "#T_8ebd8_row3_col1 {\n",
       "  background-color: #8f208f;\n",
       "  color: #f1f1f1;\n",
       "}\n",
       "#T_8ebd8_row4_col1 {\n",
       "  background-color: #a44ca4;\n",
       "  color: #f1f1f1;\n",
       "}\n",
       "#T_8ebd8_row5_col1 {\n",
       "  background-color: #983398;\n",
       "  color: #f1f1f1;\n",
       "}\n",
       "#T_8ebd8_row6_col1 {\n",
       "  background-color: #9d3c9d;\n",
       "  color: #f1f1f1;\n",
       "}\n",
       "#T_8ebd8_row7_col1 {\n",
       "  background-color: #f3f0f3;\n",
       "  color: #000000;\n",
       "}\n",
       "#T_8ebd8_row8_col1 {\n",
       "  background-color: #922792;\n",
       "  color: #f1f1f1;\n",
       "}\n",
       "#T_8ebd8_row9_col1 {\n",
       "  background-color: #830683;\n",
       "  color: #f1f1f1;\n",
       "}\n",
       "#T_8ebd8_row10_col1 {\n",
       "  background-color: #800180;\n",
       "  color: #f1f1f1;\n",
       "}\n",
       "#T_8ebd8_row11_col1 {\n",
       "  background-color: #a043a0;\n",
       "  color: #f1f1f1;\n",
       "}\n",
       "</style>\n",
       "<table id=\"T_8ebd8_\">\n",
       "  <thead>\n",
       "    <tr>\n",
       "      <th class=\"blank level0\" >&nbsp;</th>\n",
       "      <th class=\"col_heading level0 col0\" >Classifier Name</th>\n",
       "      <th class=\"col_heading level0 col1\" >Accuracy Score</th>\n",
       "    </tr>\n",
       "  </thead>\n",
       "  <tbody>\n",
       "    <tr>\n",
       "      <th id=\"T_8ebd8_level0_row0\" class=\"row_heading level0 row0\" >0</th>\n",
       "      <td id=\"T_8ebd8_row0_col0\" class=\"data row0 col0\" >LR</td>\n",
       "      <td id=\"T_8ebd8_row0_col1\" class=\"data row0 col1\" >99.200000</td>\n",
       "    </tr>\n",
       "    <tr>\n",
       "      <th id=\"T_8ebd8_level0_row1\" class=\"row_heading level0 row1\" >1</th>\n",
       "      <td id=\"T_8ebd8_row1_col0\" class=\"data row1 col0\" >RF</td>\n",
       "      <td id=\"T_8ebd8_row1_col1\" class=\"data row1 col1\" >99.940000</td>\n",
       "    </tr>\n",
       "    <tr>\n",
       "      <th id=\"T_8ebd8_level0_row2\" class=\"row_heading level0 row2\" >2</th>\n",
       "      <td id=\"T_8ebd8_row2_col0\" class=\"data row2 col0\" >XGBoost</td>\n",
       "      <td id=\"T_8ebd8_row2_col1\" class=\"data row2 col1\" >99.940000</td>\n",
       "    </tr>\n",
       "    <tr>\n",
       "      <th id=\"T_8ebd8_level0_row3\" class=\"row_heading level0 row3\" >3</th>\n",
       "      <td id=\"T_8ebd8_row3_col0\" class=\"data row3 col0\" >Ada Boost</td>\n",
       "      <td id=\"T_8ebd8_row3_col1\" class=\"data row3 col1\" >99.630000</td>\n",
       "    </tr>\n",
       "    <tr>\n",
       "      <th id=\"T_8ebd8_level0_row4\" class=\"row_heading level0 row4\" >4</th>\n",
       "      <td id=\"T_8ebd8_row4_col0\" class=\"data row4 col0\" >SGD</td>\n",
       "      <td id=\"T_8ebd8_row4_col1\" class=\"data row4 col1\" >99.220000</td>\n",
       "    </tr>\n",
       "    <tr>\n",
       "      <th id=\"T_8ebd8_level0_row5\" class=\"row_heading level0 row5\" >5</th>\n",
       "      <td id=\"T_8ebd8_row5_col0\" class=\"data row5 col0\" >NN(Supervised)</td>\n",
       "      <td id=\"T_8ebd8_row5_col1\" class=\"data row5 col1\" >99.460000</td>\n",
       "    </tr>\n",
       "    <tr>\n",
       "      <th id=\"T_8ebd8_level0_row6\" class=\"row_heading level0 row6\" >6</th>\n",
       "      <td id=\"T_8ebd8_row6_col0\" class=\"data row6 col0\" >DT</td>\n",
       "      <td id=\"T_8ebd8_row6_col1\" class=\"data row6 col1\" >99.370000</td>\n",
       "    </tr>\n",
       "    <tr>\n",
       "      <th id=\"T_8ebd8_level0_row7\" class=\"row_heading level0 row7\" >7</th>\n",
       "      <td id=\"T_8ebd8_row7_col0\" class=\"data row7 col0\" >GNB</td>\n",
       "      <td id=\"T_8ebd8_row7_col1\" class=\"data row7 col1\" >97.670000</td>\n",
       "    </tr>\n",
       "    <tr>\n",
       "      <th id=\"T_8ebd8_level0_row8\" class=\"row_heading level0 row8\" >8</th>\n",
       "      <td id=\"T_8ebd8_row8_col0\" class=\"data row8 col0\" >GB</td>\n",
       "      <td id=\"T_8ebd8_row8_col1\" class=\"data row8 col1\" >99.570000</td>\n",
       "    </tr>\n",
       "    <tr>\n",
       "      <th id=\"T_8ebd8_level0_row9\" class=\"row_heading level0 row9\" >9</th>\n",
       "      <td id=\"T_8ebd8_row9_col0\" class=\"data row9 col0\" >KNN</td>\n",
       "      <td id=\"T_8ebd8_row9_col1\" class=\"data row9 col1\" >99.880000</td>\n",
       "    </tr>\n",
       "    <tr>\n",
       "      <th id=\"T_8ebd8_level0_row10\" class=\"row_heading level0 row10\" >10</th>\n",
       "      <td id=\"T_8ebd8_row10_col0\" class=\"data row10 col0\" >VC</td>\n",
       "      <td id=\"T_8ebd8_row10_col1\" class=\"data row10 col1\" >99.930000</td>\n",
       "    </tr>\n",
       "    <tr>\n",
       "      <th id=\"T_8ebd8_level0_row11\" class=\"row_heading level0 row11\" >11</th>\n",
       "      <td id=\"T_8ebd8_row11_col0\" class=\"data row11 col0\" >SVM</td>\n",
       "      <td id=\"T_8ebd8_row11_col1\" class=\"data row11 col1\" >99.310000</td>\n",
       "    </tr>\n",
       "  </tbody>\n",
       "</table>\n"
      ],
      "text/plain": [
       "<pandas.io.formats.style.Styler at 0x1ae91589d30>"
      ]
     },
     "execution_count": 140,
     "metadata": {},
     "output_type": "execute_result"
    }
   ],
   "source": [
    "df = pd.DataFrame()\n",
    "df['Classifier Name'] = names\n",
    "df['Accuracy Score'] = scores\n",
    "cm = sns.light_palette(\"purple\", as_cmap=True)\n",
    "s = df.style.background_gradient(cmap=cm)\n",
    "s"
   ]
  },
  {
   "cell_type": "code",
   "execution_count": 141,
   "metadata": {
    "colab": {
     "base_uri": "https://localhost:8080/"
    },
    "id": "KQ6u5vD_z0vn",
    "outputId": "b30bc9c6-2a76-4a19-aae6-62c3fb7a6f2c"
   },
   "outputs": [
    {
     "data": {
      "image/png": "[encoded data removed]",
      "text/plain": [
       "<Figure size 432x288 with 1 Axes>"
      ]
     },
     "metadata": {},
     "output_type": "display_data"
    }
   ],
   "source": [
    "sns.set(style=\"whitegrid\")\n",
    "ax = sns.barplot(y=\"Classifier Name\", x=\"Accuracy Score\", data = df)"
   ]
  },
  {
   "cell_type": "markdown",
   "metadata": {
    "id": "_VMC5vrAwP40"
   },
   "source": [
    "###ROC Curve"
   ]
  },
  {
   "cell_type": "code",
   "execution_count": 142,
   "metadata": {
    "id": "RX3WXRT4b8hN"
   },
   "outputs": [],
   "source": [
    "r_probs = [0 for _ in range(len(y_test))]\n",
    "lr_probs = lr_clf.predict_proba(X_test)\n",
    "rf_probs = rf_clf.predict_proba(X_test)\n",
    "xgb_probs = xgb_clf.predict_proba(X_test)\n",
    "svm_probs = svm_clf.predict_proba(X_test)\n",
    "adaboost_probs = adaboost_clf.predict_proba(X_test)\n",
    "sgd_probs = sgd_clf.predict_proba(X_test)\n",
    "nn_probs = nn_clf.predict_proba(X_test)\n",
    "dt_probs = dt_clf.predict_proba(X_test)\n",
    "gnb_probs = gnb_clf.predict_proba(X_test)\n",
    "gb_probs = gb_clf.predict_proba(X_test)\n",
    "knn_probs = knn_clf.predict_proba(X_test)\n",
    "voting_probs = voting_clf.predict_proba(X_test)"
   ]
  },
  {
   "cell_type": "code",
   "execution_count": 143,
   "metadata": {
    "id": "lEStlGS3wwUJ"
   },
   "outputs": [],
   "source": [
    "lr_probs = lr_probs[:, 1]\n",
    "rf_probs = rf_probs[:, 1]\n",
    "xgb_probs = xgb_probs[:, 1]\n",
    "svm_probs = svm_probs[:, 1]\n",
    "adaboost_probs = adaboost_probs[:, 1]\n",
    "sgd_probs = sgd_probs[:, 1]\n",
    "nn_probs = nn_probs[:, 1]\n",
    "dt_probs = dt_probs[:, 1]\n",
    "gnb_probs = gnb_probs[:, 1]\n",
    "gb_probs = gb_probs[:, 1]\n",
    "knn_probs = knn_probs[:, 1]\n",
    "voting_probs = voting_probs[:, 1]"
   ]
  },
  {
   "cell_type": "code",
   "execution_count": 144,
   "metadata": {
    "id": "GEpiEE0f3AiI"
   },
   "outputs": [],
   "source": [
    "from sklearn.metrics import roc_curve, roc_auc_score"
   ]
  },
  {
   "cell_type": "code",
   "execution_count": 145,
   "metadata": {
    "id": "q0UOI_nW1avj"
   },
   "outputs": [],
   "source": [
    "r_auc = roc_auc_score(y_test, r_probs)\n",
    "lr_auc = roc_auc_score(y_test, lr_probs)\n",
    "rf_auc = roc_auc_score(y_test, rf_probs)\n",
    "xgb_auc = roc_auc_score(y_test, xgb_probs)\n",
    "svm_auc = roc_auc_score(y_test, svm_probs)\n",
    "adaboost_auc = roc_auc_score(y_test, adaboost_probs)\n",
    "sgd_auc = roc_auc_score(y_test, sgd_probs)\n",
    "nn_auc = roc_auc_score(y_test, nn_probs)\n",
    "dt_auc = roc_auc_score(y_test, dt_probs)\n",
    "gnb_auc = roc_auc_score(y_test, gnb_probs)\n",
    "gb_auc = roc_auc_score(y_test, gb_probs)\n",
    "knn_auc = roc_auc_score(y_test, knn_probs)\n",
    "voting_auc = roc_auc_score(y_test, voting_probs)\n"
   ]
  },
  {
   "cell_type": "code",
   "execution_count": 146,
   "metadata": {
    "colab": {
     "base_uri": "https://localhost:8080/"
    },
    "id": "J0dU8tER-z2s",
    "outputId": "0bb8939d-67ea-4f39-e4c2-da91f277993c"
   },
   "outputs": [
    {
     "name": "stdout",
     "output_type": "stream",
     "text": [
      "Random (chance) Prediction: AUROC = 0.500\n",
      "Random Forest: AUROC = 0.964\n",
      "Naive Bayes: AUROC = 0.953\n"
     ]
    }
   ],
   "source": [
    "print('Random (chance) Prediction: AUROC = %.3f' % (r_auc))\n",
    "print('Random Forest: AUROC = %.3f' % (rf_auc))\n",
    "print('Naive Bayes: AUROC = %.3f' % (gnb_auc))"
   ]
  },
  {
   "cell_type": "code",
   "execution_count": 147,
   "metadata": {
    "colab": {
     "base_uri": "https://localhost:8080/"
    },
    "id": "idIDAztfAT6-",
    "outputId": "c7ce547f-7e9a-472c-866f-50ff6066caa6"
   },
   "outputs": [
    {
     "data": {
      "text/plain": [
       "numpy.ndarray"
      ]
     },
     "execution_count": 147,
     "metadata": {},
     "output_type": "execute_result"
    }
   ],
   "source": [
    "type(lr_probs)"
   ]
  },
  {
   "cell_type": "code",
   "execution_count": 148,
   "metadata": {
    "id": "Fq8MgTYr4l3o"
   },
   "outputs": [],
   "source": [
    "r_fpr, r_tpr, _ = roc_curve(y_test, r_probs)\n",
    "lr_fpr, lr_tpr, _ = roc_curve(y_test, lr_probs)\n",
    "rf_fpr, rf_tpr, _ = roc_curve(y_test, rf_probs)\n",
    "xgb_fpr, xgb_tpr, _ = roc_curve(y_test, xgb_probs)\n",
    "svm_fpr, svm_tpr, _ = roc_curve(y_test, svm_probs)\n",
    "adaboost_fpr, adaboost_tpr, _ = roc_curve(y_test, adaboost_probs)\n",
    "sgd_fpr, sgd_tpr, _ = roc_curve(y_test, sgd_probs)\n",
    "nn_fpr, nn_tpr, _ = roc_curve(y_test, nn_probs)\n",
    "dt_fpr, dt_tpr, _ = roc_curve(y_test, dt_probs)\n",
    "gnb_fpr, gnb_tpr, _ = roc_curve(y_test, gnb_probs)\n",
    "gb_fpr, gb_tpr, _ = roc_curve(y_test, gb_probs)\n",
    "knn_fpr, knn_tpr, _ = roc_curve(y_test, knn_probs)\n",
    "voting_fpr, voting_tpr, _ = roc_curve(y_test, voting_probs)"
   ]
  },
  {
   "cell_type": "code",
   "execution_count": 149,
   "metadata": {
    "id": "nWT52wb75fBb"
   },
   "outputs": [],
   "source": [
    "import matplotlib.pyplot as plt\n",
    "from matplotlib.pyplot import figure"
   ]
  },
  {
   "cell_type": "code",
   "execution_count": 150,
   "metadata": {
    "colab": {
     "base_uri": "https://localhost:8080/"
    },
    "id": "75JI__6a5jgc",
    "outputId": "55ef3053-118f-45b4-a9b6-ecae29c48ee8"
   },
   "outputs": [
    {
     "data": {
      "image/png": "[encoded data removed]",
      "text/plain": [
       "<Figure size 800x600 with 1 Axes>"
      ]
     },
     "metadata": {},
     "output_type": "display_data"
    }
   ],
   "source": [
    "figure(figsize=(8, 6), dpi=100)\n",
    "plt.plot(r_fpr, r_tpr, linestyle='--', label='Random prediction (AUROC = %0.3f)' % r_auc)\n",
    "plt.plot(lr_fpr, lr_tpr, marker='.', label='Logistic Regression (AUROC = %0.3f)' % lr_auc)\n",
    "plt.plot(rf_fpr, rf_tpr, marker='.', label='Random Forest (AUROC = %0.3f)' % rf_auc)\n",
    "plt.plot(xgb_fpr, xgb_tpr, marker='.', label='Extreme Gradient Boosting (AUROC = %0.3f)' % xgb_auc)\n",
    "plt.plot(svm_fpr, svm_tpr, marker='.', label='Support vector machine (AUROC = %0.3f)' % svm_auc)\n",
    "plt.plot(adaboost_fpr, adaboost_tpr, marker='.', label='Ada Boost (AUROC = %0.3f)' % adaboost_auc)\n",
    "plt.plot(sgd_fpr, sgd_tpr, marker='.', label='Stochastic gradient descent (AUROC = %0.3f)' % sgd_auc)\n",
    "plt.plot(nn_fpr, nn_tpr, marker='.', label='Neural network models (AUROC = %0.3f)' % nn_auc)\n",
    "plt.plot(dt_fpr, dt_tpr, marker='.', label='Decision Tree (AUROC = %0.3f)' % dt_auc)\n",
    "plt.plot(gnb_fpr, gnb_tpr, marker='.', label='Gaussian Naive Bayes (AUROC = %0.3f)' % gnb_auc)\n",
    "plt.plot(gb_fpr, gb_tpr, marker='.', label='Gradient Boosting (AUROC = %0.3f)' % gb_auc)\n",
    "plt.plot(knn_fpr, knn_tpr, marker='.', label='K-Nearest Neighbors (AUROC = %0.3f)' % knn_auc)\n",
    "plt.plot(voting_fpr, voting_tpr, marker='.', label='Voting Classifier (AUROC = %0.3f)' % voting_auc)\n",
    "\n",
    "\n",
    "# Title\n",
    "plt.title('ROC Plot')\n",
    "# Axis labels\n",
    "plt.xlabel('False Positive Rate')\n",
    "plt.ylabel('True Positive Rate')\n",
    "# Show legend\n",
    "plt.legend(bbox_to_anchor=(1,1), loc=\"upper left\") # \n",
    "# Show plot\n",
    "plt.show()"
   ]
  },
  {
   "cell_type": "markdown",
   "metadata": {
    "id": "lLyVcbGTvFXW"
   },
   "source": [
    "###Precision Recall f1 score"
   ]
  },
  {
   "cell_type": "code",
   "execution_count": 151,
   "metadata": {
    "id": "kxxRZ7HQvJvZ"
   },
   "outputs": [],
   "source": [
    "# importing package\n",
    "import matplotlib.pyplot as plt\n",
    "import numpy as np"
   ]
  },
  {
   "cell_type": "code",
   "execution_count": 152,
   "metadata": {
    "id": "6tchaJhJvZED"
   },
   "outputs": [],
   "source": [
    "x = np.arange(len(names))\n",
    "width = 0.35"
   ]
  },
  {
   "cell_type": "code",
   "execution_count": 153,
   "metadata": {
    "colab": {
     "base_uri": "https://localhost:8080/",
     "height": 460
    },
    "id": "RG5mh11RvblY",
    "outputId": "0f14050c-aa28-40b3-c04f-aed44d96aa97"
   },
   "outputs": [
    {
     "data": {
      "image/png": "[encoded data removed]",
      "text/plain": [
       "<Figure size 640x400 with 1 Axes>"
      ]
     },
     "metadata": {},
     "output_type": "display_data"
    }
   ],
   "source": [
    "plt.figure(figsize=(8,5), dpi=80)\n",
    "plt.bar(x-0.2, preci, width, color='forestgreen')\n",
    "plt.bar(x, recall, width, color='darkorange')\n",
    "plt.bar(x+0.2, f1, width, color='slateblue')\n",
    "plt.xticks(x, names, rotation=90)\n",
    "plt.xlabel(\"Classifiers\")\n",
    "plt.ylabel(\"Scores\")\n",
    "plt.legend([\"Precision\", \"Recall\", \"f1-score\"], bbox_to_anchor=(1,1), loc=\"upper left\")\n",
    "plt.show()"
   ]
  },
  {
   "cell_type": "code",
   "execution_count": 154,
   "metadata": {
    "id": "yEiC2b_pve5Z"
   },
   "outputs": [],
   "source": [
    "import pandas as pd\n",
    "from zipfile import ZipFile as zip\n",
    "res_df = pd.DataFrame(np.column_stack([names, scores, preci, recall, f1]), columns =['Classifier', 'Accuracy Score', 'Precision', 'Recall', 'F1-score'])"
   ]
  },
  {
   "cell_type": "code",
   "execution_count": 155,
   "metadata": {
    "colab": {
     "base_uri": "https://localhost:8080/",
     "height": 426
    },
    "id": "wb7MKQH8vk1p",
    "outputId": "670f5ec5-3db0-489e-fb63-8c6275c1331a"
   },
   "outputs": [
    {
     "data": {
      "text/html": [
       "<div>\n",
       "<style scoped>\n",
       "    .dataframe tbody tr th:only-of-type {\n",
       "        vertical-align: middle;\n",
       "    }\n",
       "\n",
       "    .dataframe tbody tr th {\n",
       "        vertical-align: top;\n",
       "    }\n",
       "\n",
       "    .dataframe thead th {\n",
       "        text-align: right;\n",
       "    }\n",
       "</style>\n",
       "<table border=\"1\" class=\"dataframe\">\n",
       "  <thead>\n",
       "    <tr style=\"text-align: right;\">\n",
       "      <th></th>\n",
       "      <th>Classifier</th>\n",
       "      <th>Accuracy Score</th>\n",
       "      <th>Precision</th>\n",
       "      <th>Recall</th>\n",
       "      <th>F1-score</th>\n",
       "    </tr>\n",
       "  </thead>\n",
       "  <tbody>\n",
       "    <tr>\n",
       "      <th>0</th>\n",
       "      <td>LR</td>\n",
       "      <td>99.2</td>\n",
       "      <td>57.86</td>\n",
       "      <td>91.45</td>\n",
       "      <td>63.05</td>\n",
       "    </tr>\n",
       "    <tr>\n",
       "      <th>1</th>\n",
       "      <td>RF</td>\n",
       "      <td>99.94</td>\n",
       "      <td>92.59</td>\n",
       "      <td>88.25</td>\n",
       "      <td>90.31</td>\n",
       "    </tr>\n",
       "    <tr>\n",
       "      <th>2</th>\n",
       "      <td>XGBoost</td>\n",
       "      <td>99.94</td>\n",
       "      <td>92.29</td>\n",
       "      <td>89.27</td>\n",
       "      <td>90.73</td>\n",
       "    </tr>\n",
       "    <tr>\n",
       "      <th>3</th>\n",
       "      <td>Ada Boost</td>\n",
       "      <td>99.63</td>\n",
       "      <td>64.87</td>\n",
       "      <td>91.16</td>\n",
       "      <td>71.8</td>\n",
       "    </tr>\n",
       "    <tr>\n",
       "      <th>4</th>\n",
       "      <td>SGD</td>\n",
       "      <td>99.22</td>\n",
       "      <td>58.11</td>\n",
       "      <td>91.97</td>\n",
       "      <td>63.43</td>\n",
       "    </tr>\n",
       "    <tr>\n",
       "      <th>5</th>\n",
       "      <td>NN(Supervised)</td>\n",
       "      <td>99.46</td>\n",
       "      <td>60.66</td>\n",
       "      <td>90.05</td>\n",
       "      <td>66.74</td>\n",
       "    </tr>\n",
       "    <tr>\n",
       "      <th>6</th>\n",
       "      <td>DT</td>\n",
       "      <td>99.37</td>\n",
       "      <td>59.51</td>\n",
       "      <td>91.02</td>\n",
       "      <td>65.33</td>\n",
       "    </tr>\n",
       "    <tr>\n",
       "      <th>7</th>\n",
       "      <td>GNB</td>\n",
       "      <td>97.67</td>\n",
       "      <td>52.86</td>\n",
       "      <td>89.66</td>\n",
       "      <td>54.78</td>\n",
       "    </tr>\n",
       "    <tr>\n",
       "      <th>8</th>\n",
       "      <td>GB</td>\n",
       "      <td>99.57</td>\n",
       "      <td>63.01</td>\n",
       "      <td>90.62</td>\n",
       "      <td>69.65</td>\n",
       "    </tr>\n",
       "    <tr>\n",
       "      <th>9</th>\n",
       "      <td>KNN</td>\n",
       "      <td>99.88</td>\n",
       "      <td>81.03</td>\n",
       "      <td>89.24</td>\n",
       "      <td>84.65</td>\n",
       "    </tr>\n",
       "    <tr>\n",
       "      <th>10</th>\n",
       "      <td>VC</td>\n",
       "      <td>99.93</td>\n",
       "      <td>91.29</td>\n",
       "      <td>88.76</td>\n",
       "      <td>89.98</td>\n",
       "    </tr>\n",
       "    <tr>\n",
       "      <th>11</th>\n",
       "      <td>SVM</td>\n",
       "      <td>99.31</td>\n",
       "      <td>58.88</td>\n",
       "      <td>91.5</td>\n",
       "      <td>64.49</td>\n",
       "    </tr>\n",
       "  </tbody>\n",
       "</table>\n",
       "</div>"
      ],
      "text/plain": [
       "        Classifier Accuracy Score Precision Recall F1-score\n",
       "0               LR           99.2     57.86  91.45    63.05\n",
       "1               RF          99.94     92.59  88.25    90.31\n",
       "2          XGBoost          99.94     92.29  89.27    90.73\n",
       "3        Ada Boost          99.63     64.87  91.16     71.8\n",
       "4              SGD          99.22     58.11  91.97    63.43\n",
       "5   NN(Supervised)          99.46     60.66  90.05    66.74\n",
       "6               DT          99.37     59.51  91.02    65.33\n",
       "7              GNB          97.67     52.86  89.66    54.78\n",
       "8               GB          99.57     63.01  90.62    69.65\n",
       "9              KNN          99.88     81.03  89.24    84.65\n",
       "10              VC          99.93     91.29  88.76    89.98\n",
       "11             SVM          99.31     58.88   91.5    64.49"
      ]
     },
     "execution_count": 155,
     "metadata": {},
     "output_type": "execute_result"
    }
   ],
   "source": [
    "res_df"
   ]
  },
  {
   "cell_type": "code",
   "execution_count": null,
   "metadata": {},
   "outputs": [],
   "source": []
  }
 ],
 "metadata": {
  "colab": {
   "collapsed_sections": [
    "r0elJ5uWXdPv",
    "1d4tFWVJ5mHI",
    "uUe8LS37Moda",
    "emmumE-0R8Bz",
    "DK5U8Y7bSnSD",
    "wE7N0ioETmTP",
    "_My0rWPgUcC-",
    "tgUxsgxDVjNk",
    "8029zomIXrX6",
    "CIzFU2f5fcnn",
    "dySNS03fDS6E",
    "l3O9FZFkhQYK",
    "_VMC5vrAwP40",
    "lLyVcbGTvFXW"
   ],
   "name": "Credit_Card_Fraud_Detection(Over_Sampling_using_ADASYN).ipynb",
   "provenance": []
  },
  "kernelspec": {
   "display_name": "Python 3 (ipykernel)",
   "language": "python",
   "name": "python3"
  },
  "language_info": {
   "codemirror_mode": {
    "name": "ipython",
    "version": 3
   },
   "file_extension": ".py",
   "mimetype": "text/x-python",
   "name": "python",
   "nbconvert_exporter": "python",
   "pygments_lexer": "ipython3",
   "version": "3.8.12"
  }
 },
 "nbformat": 4,
 "nbformat_minor": 1
}
